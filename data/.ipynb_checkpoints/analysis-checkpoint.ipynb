{
 "cells": [
  {
   "cell_type": "code",
   "execution_count": 1,
   "metadata": {},
   "outputs": [
    {
     "name": "stdout",
     "output_type": "stream",
     "text": [
      "Loading 876 lines of stats.\n"
     ]
    }
   ],
   "source": [
    "import matplotlib.pyplot as plt\n",
    "import numpy as np\n",
    "import pandas as pd\n",
    "import pingouin as pg\n",
    "\n",
    "from basics import alpha\n",
    "\n",
    "resultsfilename = \"data_stats-outliers-replaced.csv\"\n",
    "st_ = pd.read_csv(resultsfilename)\n",
    "print(\"Loading\", len(st_), \"lines of stats.\")\n",
    "\n",
    "def get_scale(metric):\n",
    "    \"\"\"\n",
    "    Get the right scale for particular metric.\n",
    "    \"\"\"\n",
    "    \n",
    "    if metric in [\"AUC\", \"Correct\"]:\n",
    "        return (0.6, 1.1)\n",
    "    elif metric_ == \"JoM\":\n",
    "        return (0, 100)\n",
    "    else:\n",
    "        return None"
   ]
  },
  {
   "cell_type": "markdown",
   "metadata": {},
   "source": [
    "# Comparison between the two fonts, grouped by training"
   ]
  },
  {
   "cell_type": "code",
   "execution_count": 2,
   "metadata": {},
   "outputs": [
    {
     "name": "stdout",
     "output_type": "stream",
     "text": [
      "--------------------------------------------------------------------------------\n",
      "# For both studies together, lexical task only\n",
      "\n",
      "Designers : comparing AUCnorm between the two fonts\n"
     ]
    },
    {
     "data": {
      "text/html": [
       "<div>\n",
       "<style scoped>\n",
       "    .dataframe tbody tr th:only-of-type {\n",
       "        vertical-align: middle;\n",
       "    }\n",
       "\n",
       "    .dataframe tbody tr th {\n",
       "        vertical-align: top;\n",
       "    }\n",
       "\n",
       "    .dataframe thead th {\n",
       "        text-align: right;\n",
       "    }\n",
       "</style>\n",
       "<table border=\"1\" class=\"dataframe\">\n",
       "  <thead>\n",
       "    <tr style=\"text-align: right;\">\n",
       "      <th></th>\n",
       "      <th>W-val</th>\n",
       "      <th>tail</th>\n",
       "      <th>p-val</th>\n",
       "      <th>RBC</th>\n",
       "      <th>CLES</th>\n",
       "    </tr>\n",
       "  </thead>\n",
       "  <tbody>\n",
       "    <tr>\n",
       "      <td>Wilcoxon</td>\n",
       "      <td>1093.0</td>\n",
       "      <td>two-sided</td>\n",
       "      <td>0.938769</td>\n",
       "      <td>0.011</td>\n",
       "      <td>0.336</td>\n",
       "    </tr>\n",
       "  </tbody>\n",
       "</table>\n",
       "</div>"
      ],
      "text/plain": [
       "           W-val       tail     p-val    RBC   CLES\n",
       "Wilcoxon  1093.0  two-sided  0.938769  0.011  0.336"
      ]
     },
     "metadata": {},
     "output_type": "display_data"
    },
    {
     "name": "stdout",
     "output_type": "stream",
     "text": [
      "----> the median is the same\n",
      "\n",
      "Non-designers : comparing AUCnorm between the two fonts\n"
     ]
    },
    {
     "data": {
      "text/html": [
       "<div>\n",
       "<style scoped>\n",
       "    .dataframe tbody tr th:only-of-type {\n",
       "        vertical-align: middle;\n",
       "    }\n",
       "\n",
       "    .dataframe tbody tr th {\n",
       "        vertical-align: top;\n",
       "    }\n",
       "\n",
       "    .dataframe thead th {\n",
       "        text-align: right;\n",
       "    }\n",
       "</style>\n",
       "<table border=\"1\" class=\"dataframe\">\n",
       "  <thead>\n",
       "    <tr style=\"text-align: right;\">\n",
       "      <th></th>\n",
       "      <th>W-val</th>\n",
       "      <th>tail</th>\n",
       "      <th>p-val</th>\n",
       "      <th>RBC</th>\n",
       "      <th>CLES</th>\n",
       "    </tr>\n",
       "  </thead>\n",
       "  <tbody>\n",
       "    <tr>\n",
       "      <td>Wilcoxon</td>\n",
       "      <td>377.5</td>\n",
       "      <td>two-sided</td>\n",
       "      <td>0.356582</td>\n",
       "      <td>-0.164</td>\n",
       "      <td>0.261</td>\n",
       "    </tr>\n",
       "  </tbody>\n",
       "</table>\n",
       "</div>"
      ],
      "text/plain": [
       "          W-val       tail     p-val    RBC   CLES\n",
       "Wilcoxon  377.5  two-sided  0.356582 -0.164  0.261"
      ]
     },
     "metadata": {},
     "output_type": "display_data"
    },
    {
     "name": "stdout",
     "output_type": "stream",
     "text": [
      "----> the median is the same\n",
      "\n",
      "\n",
      "\n",
      "Designers : comparing Correctnorm between the two fonts\n"
     ]
    },
    {
     "data": {
      "text/html": [
       "<div>\n",
       "<style scoped>\n",
       "    .dataframe tbody tr th:only-of-type {\n",
       "        vertical-align: middle;\n",
       "    }\n",
       "\n",
       "    .dataframe tbody tr th {\n",
       "        vertical-align: top;\n",
       "    }\n",
       "\n",
       "    .dataframe thead th {\n",
       "        text-align: right;\n",
       "    }\n",
       "</style>\n",
       "<table border=\"1\" class=\"dataframe\">\n",
       "  <thead>\n",
       "    <tr style=\"text-align: right;\">\n",
       "      <th></th>\n",
       "      <th>W-val</th>\n",
       "      <th>tail</th>\n",
       "      <th>p-val</th>\n",
       "      <th>RBC</th>\n",
       "      <th>CLES</th>\n",
       "    </tr>\n",
       "  </thead>\n",
       "  <tbody>\n",
       "    <tr>\n",
       "      <td>Wilcoxon</td>\n",
       "      <td>1811.0</td>\n",
       "      <td>two-sided</td>\n",
       "      <td>0.799295</td>\n",
       "      <td>0.032</td>\n",
       "      <td>0.428</td>\n",
       "    </tr>\n",
       "  </tbody>\n",
       "</table>\n",
       "</div>"
      ],
      "text/plain": [
       "           W-val       tail     p-val    RBC   CLES\n",
       "Wilcoxon  1811.0  two-sided  0.799295  0.032  0.428"
      ]
     },
     "metadata": {},
     "output_type": "display_data"
    },
    {
     "name": "stdout",
     "output_type": "stream",
     "text": [
      "----> the median is the same\n",
      "\n",
      "Non-designers : comparing Correctnorm between the two fonts\n"
     ]
    },
    {
     "data": {
      "text/html": [
       "<div>\n",
       "<style scoped>\n",
       "    .dataframe tbody tr th:only-of-type {\n",
       "        vertical-align: middle;\n",
       "    }\n",
       "\n",
       "    .dataframe tbody tr th {\n",
       "        vertical-align: top;\n",
       "    }\n",
       "\n",
       "    .dataframe thead th {\n",
       "        text-align: right;\n",
       "    }\n",
       "</style>\n",
       "<table border=\"1\" class=\"dataframe\">\n",
       "  <thead>\n",
       "    <tr style=\"text-align: right;\">\n",
       "      <th></th>\n",
       "      <th>W-val</th>\n",
       "      <th>tail</th>\n",
       "      <th>p-val</th>\n",
       "      <th>RBC</th>\n",
       "      <th>CLES</th>\n",
       "    </tr>\n",
       "  </thead>\n",
       "  <tbody>\n",
       "    <tr>\n",
       "      <td>Wilcoxon</td>\n",
       "      <td>607.0</td>\n",
       "      <td>two-sided</td>\n",
       "      <td>0.014566</td>\n",
       "      <td>-0.358</td>\n",
       "      <td>0.435</td>\n",
       "    </tr>\n",
       "  </tbody>\n",
       "</table>\n",
       "</div>"
      ],
      "text/plain": [
       "          W-val       tail     p-val    RBC   CLES\n",
       "Wilcoxon  607.0  two-sided  0.014566 -0.358  0.435"
      ]
     },
     "metadata": {},
     "output_type": "display_data"
    },
    {
     "name": "stdout",
     "output_type": "stream",
     "text": [
      "----> the median is different\n",
      "\n",
      "\n",
      "\n",
      "Designers : comparing JoM between the two fonts\n"
     ]
    },
    {
     "data": {
      "text/html": [
       "<div>\n",
       "<style scoped>\n",
       "    .dataframe tbody tr th:only-of-type {\n",
       "        vertical-align: middle;\n",
       "    }\n",
       "\n",
       "    .dataframe tbody tr th {\n",
       "        vertical-align: top;\n",
       "    }\n",
       "\n",
       "    .dataframe thead th {\n",
       "        text-align: right;\n",
       "    }\n",
       "</style>\n",
       "<table border=\"1\" class=\"dataframe\">\n",
       "  <thead>\n",
       "    <tr style=\"text-align: right;\">\n",
       "      <th></th>\n",
       "      <th>W-val</th>\n",
       "      <th>tail</th>\n",
       "      <th>p-val</th>\n",
       "      <th>RBC</th>\n",
       "      <th>CLES</th>\n",
       "    </tr>\n",
       "  </thead>\n",
       "  <tbody>\n",
       "    <tr>\n",
       "      <td>Wilcoxon</td>\n",
       "      <td>915.0</td>\n",
       "      <td>two-sided</td>\n",
       "      <td>0.000039</td>\n",
       "      <td>0.511</td>\n",
       "      <td>0.554</td>\n",
       "    </tr>\n",
       "  </tbody>\n",
       "</table>\n",
       "</div>"
      ],
      "text/plain": [
       "          W-val       tail     p-val    RBC   CLES\n",
       "Wilcoxon  915.0  two-sided  0.000039  0.511  0.554"
      ]
     },
     "metadata": {},
     "output_type": "display_data"
    },
    {
     "name": "stdout",
     "output_type": "stream",
     "text": [
      "----> the median is different\n",
      "\n",
      "Non-designers : comparing JoM between the two fonts\n"
     ]
    },
    {
     "data": {
      "text/html": [
       "<div>\n",
       "<style scoped>\n",
       "    .dataframe tbody tr th:only-of-type {\n",
       "        vertical-align: middle;\n",
       "    }\n",
       "\n",
       "    .dataframe tbody tr th {\n",
       "        vertical-align: top;\n",
       "    }\n",
       "\n",
       "    .dataframe thead th {\n",
       "        text-align: right;\n",
       "    }\n",
       "</style>\n",
       "<table border=\"1\" class=\"dataframe\">\n",
       "  <thead>\n",
       "    <tr style=\"text-align: right;\">\n",
       "      <th></th>\n",
       "      <th>W-val</th>\n",
       "      <th>tail</th>\n",
       "      <th>p-val</th>\n",
       "      <th>RBC</th>\n",
       "      <th>CLES</th>\n",
       "    </tr>\n",
       "  </thead>\n",
       "  <tbody>\n",
       "    <tr>\n",
       "      <td>Wilcoxon</td>\n",
       "      <td>1055.5</td>\n",
       "      <td>two-sided</td>\n",
       "      <td>0.073854</td>\n",
       "      <td>0.239</td>\n",
       "      <td>0.49</td>\n",
       "    </tr>\n",
       "  </tbody>\n",
       "</table>\n",
       "</div>"
      ],
      "text/plain": [
       "           W-val       tail     p-val    RBC  CLES\n",
       "Wilcoxon  1055.5  two-sided  0.073854  0.239  0.49"
      ]
     },
     "metadata": {},
     "output_type": "display_data"
    },
    {
     "name": "stdout",
     "output_type": "stream",
     "text": [
      "----> the median is the same\n",
      "\n",
      "\n",
      "\n",
      "--------------------------------------------------------------------------------\n",
      "# For study #1, lexical task only\n",
      "\n",
      "Designers : comparing AUCnorm between the two fonts\n"
     ]
    },
    {
     "data": {
      "text/html": [
       "<div>\n",
       "<style scoped>\n",
       "    .dataframe tbody tr th:only-of-type {\n",
       "        vertical-align: middle;\n",
       "    }\n",
       "\n",
       "    .dataframe tbody tr th {\n",
       "        vertical-align: top;\n",
       "    }\n",
       "\n",
       "    .dataframe thead th {\n",
       "        text-align: right;\n",
       "    }\n",
       "</style>\n",
       "<table border=\"1\" class=\"dataframe\">\n",
       "  <thead>\n",
       "    <tr style=\"text-align: right;\">\n",
       "      <th></th>\n",
       "      <th>W-val</th>\n",
       "      <th>tail</th>\n",
       "      <th>p-val</th>\n",
       "      <th>RBC</th>\n",
       "      <th>CLES</th>\n",
       "    </tr>\n",
       "  </thead>\n",
       "  <tbody>\n",
       "    <tr>\n",
       "      <td>Wilcoxon</td>\n",
       "      <td>114.0</td>\n",
       "      <td>two-sided</td>\n",
       "      <td>0.194386</td>\n",
       "      <td>-0.298</td>\n",
       "      <td>0.312</td>\n",
       "    </tr>\n",
       "  </tbody>\n",
       "</table>\n",
       "</div>"
      ],
      "text/plain": [
       "          W-val       tail     p-val    RBC   CLES\n",
       "Wilcoxon  114.0  two-sided  0.194386 -0.298  0.312"
      ]
     },
     "metadata": {},
     "output_type": "display_data"
    },
    {
     "name": "stdout",
     "output_type": "stream",
     "text": [
      "----> the median is the same\n",
      "\n",
      "Non-designers : comparing AUCnorm between the two fonts\n"
     ]
    },
    {
     "data": {
      "text/html": [
       "<div>\n",
       "<style scoped>\n",
       "    .dataframe tbody tr th:only-of-type {\n",
       "        vertical-align: middle;\n",
       "    }\n",
       "\n",
       "    .dataframe tbody tr th {\n",
       "        vertical-align: top;\n",
       "    }\n",
       "\n",
       "    .dataframe thead th {\n",
       "        text-align: right;\n",
       "    }\n",
       "</style>\n",
       "<table border=\"1\" class=\"dataframe\">\n",
       "  <thead>\n",
       "    <tr style=\"text-align: right;\">\n",
       "      <th></th>\n",
       "      <th>W-val</th>\n",
       "      <th>tail</th>\n",
       "      <th>p-val</th>\n",
       "      <th>RBC</th>\n",
       "      <th>CLES</th>\n",
       "    </tr>\n",
       "  </thead>\n",
       "  <tbody>\n",
       "    <tr>\n",
       "      <td>Wilcoxon</td>\n",
       "      <td>85.5</td>\n",
       "      <td>two-sided</td>\n",
       "      <td>0.71642</td>\n",
       "      <td>-0.1</td>\n",
       "      <td>0.263</td>\n",
       "    </tr>\n",
       "  </tbody>\n",
       "</table>\n",
       "</div>"
      ],
      "text/plain": [
       "          W-val       tail    p-val  RBC   CLES\n",
       "Wilcoxon   85.5  two-sided  0.71642 -0.1  0.263"
      ]
     },
     "metadata": {},
     "output_type": "display_data"
    },
    {
     "name": "stdout",
     "output_type": "stream",
     "text": [
      "----> the median is the same\n",
      "\n",
      "\n",
      "\n",
      "Designers : comparing Correctnorm between the two fonts\n"
     ]
    },
    {
     "data": {
      "text/html": [
       "<div>\n",
       "<style scoped>\n",
       "    .dataframe tbody tr th:only-of-type {\n",
       "        vertical-align: middle;\n",
       "    }\n",
       "\n",
       "    .dataframe tbody tr th {\n",
       "        vertical-align: top;\n",
       "    }\n",
       "\n",
       "    .dataframe thead th {\n",
       "        text-align: right;\n",
       "    }\n",
       "</style>\n",
       "<table border=\"1\" class=\"dataframe\">\n",
       "  <thead>\n",
       "    <tr style=\"text-align: right;\">\n",
       "      <th></th>\n",
       "      <th>W-val</th>\n",
       "      <th>tail</th>\n",
       "      <th>p-val</th>\n",
       "      <th>RBC</th>\n",
       "      <th>CLES</th>\n",
       "    </tr>\n",
       "  </thead>\n",
       "  <tbody>\n",
       "    <tr>\n",
       "      <td>Wilcoxon</td>\n",
       "      <td>258.5</td>\n",
       "      <td>two-sided</td>\n",
       "      <td>0.358084</td>\n",
       "      <td>-0.179</td>\n",
       "      <td>0.439</td>\n",
       "    </tr>\n",
       "  </tbody>\n",
       "</table>\n",
       "</div>"
      ],
      "text/plain": [
       "          W-val       tail     p-val    RBC   CLES\n",
       "Wilcoxon  258.5  two-sided  0.358084 -0.179  0.439"
      ]
     },
     "metadata": {},
     "output_type": "display_data"
    },
    {
     "name": "stdout",
     "output_type": "stream",
     "text": [
      "----> the median is the same\n",
      "\n",
      "Non-designers : comparing Correctnorm between the two fonts\n"
     ]
    },
    {
     "data": {
      "text/html": [
       "<div>\n",
       "<style scoped>\n",
       "    .dataframe tbody tr th:only-of-type {\n",
       "        vertical-align: middle;\n",
       "    }\n",
       "\n",
       "    .dataframe tbody tr th {\n",
       "        vertical-align: top;\n",
       "    }\n",
       "\n",
       "    .dataframe thead th {\n",
       "        text-align: right;\n",
       "    }\n",
       "</style>\n",
       "<table border=\"1\" class=\"dataframe\">\n",
       "  <thead>\n",
       "    <tr style=\"text-align: right;\">\n",
       "      <th></th>\n",
       "      <th>W-val</th>\n",
       "      <th>tail</th>\n",
       "      <th>p-val</th>\n",
       "      <th>RBC</th>\n",
       "      <th>CLES</th>\n",
       "    </tr>\n",
       "  </thead>\n",
       "  <tbody>\n",
       "    <tr>\n",
       "      <td>Wilcoxon</td>\n",
       "      <td>119.0</td>\n",
       "      <td>two-sided</td>\n",
       "      <td>0.378039</td>\n",
       "      <td>-0.207</td>\n",
       "      <td>0.408</td>\n",
       "    </tr>\n",
       "  </tbody>\n",
       "</table>\n",
       "</div>"
      ],
      "text/plain": [
       "          W-val       tail     p-val    RBC   CLES\n",
       "Wilcoxon  119.0  two-sided  0.378039 -0.207  0.408"
      ]
     },
     "metadata": {},
     "output_type": "display_data"
    },
    {
     "name": "stdout",
     "output_type": "stream",
     "text": [
      "----> the median is the same\n",
      "\n",
      "\n",
      "\n",
      "Designers : comparing JoM between the two fonts\n"
     ]
    },
    {
     "data": {
      "text/html": [
       "<div>\n",
       "<style scoped>\n",
       "    .dataframe tbody tr th:only-of-type {\n",
       "        vertical-align: middle;\n",
       "    }\n",
       "\n",
       "    .dataframe tbody tr th {\n",
       "        vertical-align: top;\n",
       "    }\n",
       "\n",
       "    .dataframe thead th {\n",
       "        text-align: right;\n",
       "    }\n",
       "</style>\n",
       "<table border=\"1\" class=\"dataframe\">\n",
       "  <thead>\n",
       "    <tr style=\"text-align: right;\">\n",
       "      <th></th>\n",
       "      <th>W-val</th>\n",
       "      <th>tail</th>\n",
       "      <th>p-val</th>\n",
       "      <th>RBC</th>\n",
       "      <th>CLES</th>\n",
       "    </tr>\n",
       "  </thead>\n",
       "  <tbody>\n",
       "    <tr>\n",
       "      <td>Wilcoxon</td>\n",
       "      <td>229.5</td>\n",
       "      <td>two-sided</td>\n",
       "      <td>0.003332</td>\n",
       "      <td>0.515</td>\n",
       "      <td>0.551</td>\n",
       "    </tr>\n",
       "  </tbody>\n",
       "</table>\n",
       "</div>"
      ],
      "text/plain": [
       "          W-val       tail     p-val    RBC   CLES\n",
       "Wilcoxon  229.5  two-sided  0.003332  0.515  0.551"
      ]
     },
     "metadata": {},
     "output_type": "display_data"
    },
    {
     "name": "stdout",
     "output_type": "stream",
     "text": [
      "----> the median is different\n",
      "\n",
      "Non-designers : comparing JoM between the two fonts\n"
     ]
    },
    {
     "data": {
      "text/html": [
       "<div>\n",
       "<style scoped>\n",
       "    .dataframe tbody tr th:only-of-type {\n",
       "        vertical-align: middle;\n",
       "    }\n",
       "\n",
       "    .dataframe tbody tr th {\n",
       "        vertical-align: top;\n",
       "    }\n",
       "\n",
       "    .dataframe thead th {\n",
       "        text-align: right;\n",
       "    }\n",
       "</style>\n",
       "<table border=\"1\" class=\"dataframe\">\n",
       "  <thead>\n",
       "    <tr style=\"text-align: right;\">\n",
       "      <th></th>\n",
       "      <th>W-val</th>\n",
       "      <th>tail</th>\n",
       "      <th>p-val</th>\n",
       "      <th>RBC</th>\n",
       "      <th>CLES</th>\n",
       "    </tr>\n",
       "  </thead>\n",
       "  <tbody>\n",
       "    <tr>\n",
       "      <td>Wilcoxon</td>\n",
       "      <td>209.0</td>\n",
       "      <td>two-sided</td>\n",
       "      <td>0.450057</td>\n",
       "      <td>0.157</td>\n",
       "      <td>0.477</td>\n",
       "    </tr>\n",
       "  </tbody>\n",
       "</table>\n",
       "</div>"
      ],
      "text/plain": [
       "          W-val       tail     p-val    RBC   CLES\n",
       "Wilcoxon  209.0  two-sided  0.450057  0.157  0.477"
      ]
     },
     "metadata": {},
     "output_type": "display_data"
    },
    {
     "name": "stdout",
     "output_type": "stream",
     "text": [
      "----> the median is the same\n",
      "\n",
      "\n",
      "\n",
      "--------------------------------------------------------------------------------\n",
      "# For study #2, lexical task only\n",
      "\n",
      "Designers : comparing AUCnorm between the two fonts\n"
     ]
    },
    {
     "data": {
      "text/html": [
       "<div>\n",
       "<style scoped>\n",
       "    .dataframe tbody tr th:only-of-type {\n",
       "        vertical-align: middle;\n",
       "    }\n",
       "\n",
       "    .dataframe tbody tr th {\n",
       "        vertical-align: top;\n",
       "    }\n",
       "\n",
       "    .dataframe thead th {\n",
       "        text-align: right;\n",
       "    }\n",
       "</style>\n",
       "<table border=\"1\" class=\"dataframe\">\n",
       "  <thead>\n",
       "    <tr style=\"text-align: right;\">\n",
       "      <th></th>\n",
       "      <th>W-val</th>\n",
       "      <th>tail</th>\n",
       "      <th>p-val</th>\n",
       "      <th>RBC</th>\n",
       "      <th>CLES</th>\n",
       "    </tr>\n",
       "  </thead>\n",
       "  <tbody>\n",
       "    <tr>\n",
       "      <td>Wilcoxon</td>\n",
       "      <td>346.5</td>\n",
       "      <td>two-sided</td>\n",
       "      <td>0.278702</td>\n",
       "      <td>0.195</td>\n",
       "      <td>0.404</td>\n",
       "    </tr>\n",
       "  </tbody>\n",
       "</table>\n",
       "</div>"
      ],
      "text/plain": [
       "          W-val       tail     p-val    RBC   CLES\n",
       "Wilcoxon  346.5  two-sided  0.278702  0.195  0.404"
      ]
     },
     "metadata": {},
     "output_type": "display_data"
    },
    {
     "name": "stdout",
     "output_type": "stream",
     "text": [
      "----> the median is the same\n",
      "\n",
      "Non-designers : comparing AUCnorm between the two fonts\n"
     ]
    },
    {
     "data": {
      "text/html": [
       "<div>\n",
       "<style scoped>\n",
       "    .dataframe tbody tr th:only-of-type {\n",
       "        vertical-align: middle;\n",
       "    }\n",
       "\n",
       "    .dataframe tbody tr th {\n",
       "        vertical-align: top;\n",
       "    }\n",
       "\n",
       "    .dataframe thead th {\n",
       "        text-align: right;\n",
       "    }\n",
       "</style>\n",
       "<table border=\"1\" class=\"dataframe\">\n",
       "  <thead>\n",
       "    <tr style=\"text-align: right;\">\n",
       "      <th></th>\n",
       "      <th>W-val</th>\n",
       "      <th>tail</th>\n",
       "      <th>p-val</th>\n",
       "      <th>RBC</th>\n",
       "      <th>CLES</th>\n",
       "    </tr>\n",
       "  </thead>\n",
       "  <tbody>\n",
       "    <tr>\n",
       "      <td>Wilcoxon</td>\n",
       "      <td>115.5</td>\n",
       "      <td>two-sided</td>\n",
       "      <td>0.502001</td>\n",
       "      <td>-0.163</td>\n",
       "      <td>0.257</td>\n",
       "    </tr>\n",
       "  </tbody>\n",
       "</table>\n",
       "</div>"
      ],
      "text/plain": [
       "          W-val       tail     p-val    RBC   CLES\n",
       "Wilcoxon  115.5  two-sided  0.502001 -0.163  0.257"
      ]
     },
     "metadata": {},
     "output_type": "display_data"
    },
    {
     "name": "stdout",
     "output_type": "stream",
     "text": [
      "----> the median is the same\n",
      "\n",
      "\n",
      "\n",
      "Designers : comparing Correctnorm between the two fonts\n"
     ]
    },
    {
     "data": {
      "text/html": [
       "<div>\n",
       "<style scoped>\n",
       "    .dataframe tbody tr th:only-of-type {\n",
       "        vertical-align: middle;\n",
       "    }\n",
       "\n",
       "    .dataframe tbody tr th {\n",
       "        vertical-align: top;\n",
       "    }\n",
       "\n",
       "    .dataframe thead th {\n",
       "        text-align: right;\n",
       "    }\n",
       "</style>\n",
       "<table border=\"1\" class=\"dataframe\">\n",
       "  <thead>\n",
       "    <tr style=\"text-align: right;\">\n",
       "      <th></th>\n",
       "      <th>W-val</th>\n",
       "      <th>tail</th>\n",
       "      <th>p-val</th>\n",
       "      <th>RBC</th>\n",
       "      <th>CLES</th>\n",
       "    </tr>\n",
       "  </thead>\n",
       "  <tbody>\n",
       "    <tr>\n",
       "      <td>Wilcoxon</td>\n",
       "      <td>538.5</td>\n",
       "      <td>two-sided</td>\n",
       "      <td>0.244848</td>\n",
       "      <td>0.188</td>\n",
       "      <td>0.478</td>\n",
       "    </tr>\n",
       "  </tbody>\n",
       "</table>\n",
       "</div>"
      ],
      "text/plain": [
       "          W-val       tail     p-val    RBC   CLES\n",
       "Wilcoxon  538.5  two-sided  0.244848  0.188  0.478"
      ]
     },
     "metadata": {},
     "output_type": "display_data"
    },
    {
     "name": "stdout",
     "output_type": "stream",
     "text": [
      "----> the median is the same\n",
      "\n",
      "Non-designers : comparing Correctnorm between the two fonts\n"
     ]
    },
    {
     "data": {
      "text/html": [
       "<div>\n",
       "<style scoped>\n",
       "    .dataframe tbody tr th:only-of-type {\n",
       "        vertical-align: middle;\n",
       "    }\n",
       "\n",
       "    .dataframe tbody tr th {\n",
       "        vertical-align: top;\n",
       "    }\n",
       "\n",
       "    .dataframe thead th {\n",
       "        text-align: right;\n",
       "    }\n",
       "</style>\n",
       "<table border=\"1\" class=\"dataframe\">\n",
       "  <thead>\n",
       "    <tr style=\"text-align: right;\">\n",
       "      <th></th>\n",
       "      <th>W-val</th>\n",
       "      <th>tail</th>\n",
       "      <th>p-val</th>\n",
       "      <th>RBC</th>\n",
       "      <th>CLES</th>\n",
       "    </tr>\n",
       "  </thead>\n",
       "  <tbody>\n",
       "    <tr>\n",
       "      <td>Wilcoxon</td>\n",
       "      <td>193.0</td>\n",
       "      <td>two-sided</td>\n",
       "      <td>0.016631</td>\n",
       "      <td>-0.451</td>\n",
       "      <td>0.461</td>\n",
       "    </tr>\n",
       "  </tbody>\n",
       "</table>\n",
       "</div>"
      ],
      "text/plain": [
       "          W-val       tail     p-val    RBC   CLES\n",
       "Wilcoxon  193.0  two-sided  0.016631 -0.451  0.461"
      ]
     },
     "metadata": {},
     "output_type": "display_data"
    },
    {
     "name": "stdout",
     "output_type": "stream",
     "text": [
      "----> the median is different\n",
      "\n",
      "\n",
      "\n",
      "Designers : comparing JoM between the two fonts\n"
     ]
    },
    {
     "data": {
      "text/html": [
       "<div>\n",
       "<style scoped>\n",
       "    .dataframe tbody tr th:only-of-type {\n",
       "        vertical-align: middle;\n",
       "    }\n",
       "\n",
       "    .dataframe tbody tr th {\n",
       "        vertical-align: top;\n",
       "    }\n",
       "\n",
       "    .dataframe thead th {\n",
       "        text-align: right;\n",
       "    }\n",
       "</style>\n",
       "<table border=\"1\" class=\"dataframe\">\n",
       "  <thead>\n",
       "    <tr style=\"text-align: right;\">\n",
       "      <th></th>\n",
       "      <th>W-val</th>\n",
       "      <th>tail</th>\n",
       "      <th>p-val</th>\n",
       "      <th>RBC</th>\n",
       "      <th>CLES</th>\n",
       "    </tr>\n",
       "  </thead>\n",
       "  <tbody>\n",
       "    <tr>\n",
       "      <td>Wilcoxon</td>\n",
       "      <td>239.0</td>\n",
       "      <td>two-sided</td>\n",
       "      <td>0.004794</td>\n",
       "      <td>0.495</td>\n",
       "      <td>0.557</td>\n",
       "    </tr>\n",
       "  </tbody>\n",
       "</table>\n",
       "</div>"
      ],
      "text/plain": [
       "          W-val       tail     p-val    RBC   CLES\n",
       "Wilcoxon  239.0  two-sided  0.004794  0.495  0.557"
      ]
     },
     "metadata": {},
     "output_type": "display_data"
    },
    {
     "name": "stdout",
     "output_type": "stream",
     "text": [
      "----> the median is different\n",
      "\n",
      "Non-designers : comparing JoM between the two fonts\n"
     ]
    },
    {
     "data": {
      "text/html": [
       "<div>\n",
       "<style scoped>\n",
       "    .dataframe tbody tr th:only-of-type {\n",
       "        vertical-align: middle;\n",
       "    }\n",
       "\n",
       "    .dataframe tbody tr th {\n",
       "        vertical-align: top;\n",
       "    }\n",
       "\n",
       "    .dataframe thead th {\n",
       "        text-align: right;\n",
       "    }\n",
       "</style>\n",
       "<table border=\"1\" class=\"dataframe\">\n",
       "  <thead>\n",
       "    <tr style=\"text-align: right;\">\n",
       "      <th></th>\n",
       "      <th>W-val</th>\n",
       "      <th>tail</th>\n",
       "      <th>p-val</th>\n",
       "      <th>RBC</th>\n",
       "      <th>CLES</th>\n",
       "    </tr>\n",
       "  </thead>\n",
       "  <tbody>\n",
       "    <tr>\n",
       "      <td>Wilcoxon</td>\n",
       "      <td>338.0</td>\n",
       "      <td>two-sided</td>\n",
       "      <td>0.104027</td>\n",
       "      <td>0.285</td>\n",
       "      <td>0.501</td>\n",
       "    </tr>\n",
       "  </tbody>\n",
       "</table>\n",
       "</div>"
      ],
      "text/plain": [
       "          W-val       tail     p-val    RBC   CLES\n",
       "Wilcoxon  338.0  two-sided  0.104027  0.285  0.501"
      ]
     },
     "metadata": {},
     "output_type": "display_data"
    },
    {
     "name": "stdout",
     "output_type": "stream",
     "text": [
      "----> the median is the same\n",
      "\n",
      "\n",
      "\n"
     ]
    },
    {
     "data": {
      "image/png": "[encoded data removed]",
      "text/plain": [
       "<Figure size 1080x1080 with 9 Axes>"
      ]
     },
     "metadata": {
      "needs_background": "light"
     },
     "output_type": "display_data"
    }
   ],
   "source": [
    "# Comparison of AUC, Correct, and JoM\n",
    "# between the two fonts when grouped by training\n",
    "\n",
    "# The Wilcoxon signed-rank test tests the null hypothesis\n",
    "# that two related paired samples come from the same distribution.\n",
    "# A continuity correction is applied by default \n",
    "# from continuous distributions with equal medians.\n",
    "# The test assumes that x and y are independent.\n",
    "\n",
    "# Legend\n",
    "# RBC: The rank biserial correlation is the difference between\n",
    "# the proportion of favorable evidence minus the proportion\n",
    "# of unfavorable evidence (see Kerby 2014).\n",
    "# CLES: The common language effect size is the probability (from 0 to 1)\n",
    "# that a randomly selected observation from the first sample will be greater\n",
    "# than a randomly selected observation from the second sample.\n",
    "\n",
    "# only for the lexical task\n",
    "ttype = \"lexical\"\n",
    "metrics = [\"AUCnorm\", \"Correctnorm\", \"JoM\"]\n",
    "\n",
    "# set up plots\n",
    "fig, axes = plt.subplots(3, 3, figsize=(15, 15))\n",
    "plt.subplots_adjust(wspace=0.2, hspace=0.5)\n",
    "\n",
    "for i, sid in enumerate([\"all\", 1, 2]):\n",
    "    print(80 * \"-\")\n",
    "    if sid == \"all\":\n",
    "        st = st_[(st_[\"Type\"] == ttype)]\n",
    "        print(\"# For both studies together, %s task only\" % ttype)\n",
    "        title = \"Lexical decision task in both studies: %s\"\n",
    "    else:\n",
    "        st = st_[(st_[\"Type\"] == ttype) & (st_[\"StudyID\"] == sid)]\n",
    "        print(\"# For study #%d, %s task only\" % (sid, ttype))\n",
    "        title = \"Lexical decision task in study #%s, %%s\" % sid\n",
    "    print()\n",
    "\n",
    "    for j, metric in enumerate(metrics):\n",
    "        means = pd.DataFrame(columns=[\"Designers\", \"Non-designers\"], index=[\"Arial\", \"Sans Forgetica\"])\n",
    "        errors = pd.DataFrame(columns=[\"Designers\", \"Non-designers\"], index=[\"Arial\", \"Sans Forgetica\"])\n",
    "        for isDesigner in [True, False]:\n",
    "            designer_ = [\"Non-designers\", \"Designers\"][isDesigner]\n",
    "            print(designer_, \": comparing\", metric, \"between the two fonts\")\n",
    "            x = st[(st[\"isDesigner\"] == isDesigner) & (st[\"Font\"] == \"arial\")]\n",
    "            y = st[(st[\"isDesigner\"] == isDesigner) & (st[\"Font\"] == \"sansforgetica\")]\n",
    "            res = pg.wilcoxon(x[metric], y[metric], tail=\"two-sided\")\n",
    "            display(res)\n",
    "            if res.loc[\"Wilcoxon\", \"p-val\"] > alpha:\n",
    "                print(\"----> the median is the same\")\n",
    "                print()\n",
    "            else:\n",
    "                print(\"----> the median is different\")\n",
    "                print()\n",
    "            # plot it using non-normalized metric\n",
    "            metric_ = metric.replace(\"norm\", \"\")\n",
    "            means[designer_][\"Arial\"] = x[metric_].mean()\n",
    "            errors[designer_][\"Arial\"] = x[metric_].sem()\n",
    "            means[designer_][\"Sans Forgetica\"] = y[metric_].mean()\n",
    "            errors[designer_][\"Sans Forgetica\"] = y[metric_].sem()\n",
    "        means.plot.bar(yerr=errors,\n",
    "                       capsize=4,\n",
    "                       ax=axes[i][j],\n",
    "                       title=title % metric_,\n",
    "                       grid=True,\n",
    "                       ylim=get_scale(metric_),\n",
    "                       rot=0)\n",
    "        print()\n",
    "        print()"
   ]
  },
  {
   "cell_type": "markdown",
   "metadata": {},
   "source": [
    "# Comparison between designers and non-designers (training), grouped by word type"
   ]
  },
  {
   "cell_type": "code",
   "execution_count": 3,
   "metadata": {},
   "outputs": [
    {
     "name": "stdout",
     "output_type": "stream",
     "text": [
      "Comparison between designers vs. non-designers for words only in study #2\n"
     ]
    },
    {
     "data": {
      "text/html": [
       "<div>\n",
       "<style scoped>\n",
       "    .dataframe tbody tr th:only-of-type {\n",
       "        vertical-align: middle;\n",
       "    }\n",
       "\n",
       "    .dataframe tbody tr th {\n",
       "        vertical-align: top;\n",
       "    }\n",
       "\n",
       "    .dataframe thead th {\n",
       "        text-align: right;\n",
       "    }\n",
       "</style>\n",
       "<table border=\"1\" class=\"dataframe\">\n",
       "  <thead>\n",
       "    <tr style=\"text-align: right;\">\n",
       "      <th></th>\n",
       "      <th>U-val</th>\n",
       "      <th>tail</th>\n",
       "      <th>p-val</th>\n",
       "      <th>RBC</th>\n",
       "      <th>CLES</th>\n",
       "    </tr>\n",
       "  </thead>\n",
       "  <tbody>\n",
       "    <tr>\n",
       "      <td>MWU</td>\n",
       "      <td>7260.5</td>\n",
       "      <td>two-sided</td>\n",
       "      <td>0.746767</td>\n",
       "      <td>0.023</td>\n",
       "      <td>0.42</td>\n",
       "    </tr>\n",
       "  </tbody>\n",
       "</table>\n",
       "</div>"
      ],
      "text/plain": [
       "      U-val       tail     p-val    RBC  CLES\n",
       "MWU  7260.5  two-sided  0.746767  0.023  0.42"
      ]
     },
     "metadata": {},
     "output_type": "display_data"
    },
    {
     "name": "stdout",
     "output_type": "stream",
     "text": [
      "----> the median is the same\n",
      "\n",
      "Comparison between designers vs. non-designers for non-words only in study #2\n"
     ]
    },
    {
     "data": {
      "text/html": [
       "<div>\n",
       "<style scoped>\n",
       "    .dataframe tbody tr th:only-of-type {\n",
       "        vertical-align: middle;\n",
       "    }\n",
       "\n",
       "    .dataframe tbody tr th {\n",
       "        vertical-align: top;\n",
       "    }\n",
       "\n",
       "    .dataframe thead th {\n",
       "        text-align: right;\n",
       "    }\n",
       "</style>\n",
       "<table border=\"1\" class=\"dataframe\">\n",
       "  <thead>\n",
       "    <tr style=\"text-align: right;\">\n",
       "      <th></th>\n",
       "      <th>U-val</th>\n",
       "      <th>tail</th>\n",
       "      <th>p-val</th>\n",
       "      <th>RBC</th>\n",
       "      <th>CLES</th>\n",
       "    </tr>\n",
       "  </thead>\n",
       "  <tbody>\n",
       "    <tr>\n",
       "      <td>MWU</td>\n",
       "      <td>5720.0</td>\n",
       "      <td>two-sided</td>\n",
       "      <td>0.001403</td>\n",
       "      <td>0.231</td>\n",
       "      <td>0.53</td>\n",
       "    </tr>\n",
       "  </tbody>\n",
       "</table>\n",
       "</div>"
      ],
      "text/plain": [
       "      U-val       tail     p-val    RBC  CLES\n",
       "MWU  5720.0  two-sided  0.001403  0.231  0.53"
      ]
     },
     "metadata": {},
     "output_type": "display_data"
    },
    {
     "name": "stdout",
     "output_type": "stream",
     "text": [
      "----> the median is different\n",
      "\n",
      "\n",
      "\n"
     ]
    },
    {
     "data": {
      "image/png": "[encoded data removed]",
      "text/plain": [
       "<Figure size 432x288 with 1 Axes>"
      ]
     },
     "metadata": {
      "needs_background": "light"
     },
     "output_type": "display_data"
    }
   ],
   "source": [
    "# Comparison of AUC\n",
    "# between designers and non-designers, grouped by word type\n",
    "# using MWU\n",
    "\n",
    "# MWU tests the hypothesis that data in x and y are samples\n",
    "# from continuous distributions with equal medians.\n",
    "# The test assumes that x and y are independent.\n",
    "# This test corrects for ties and by default uses a continuity correction.\n",
    "\n",
    "# only for study #2\n",
    "sid = 2\n",
    "st = st_[st_[\"StudyID\"] == sid]\n",
    "\n",
    "means = pd.DataFrame(columns=[\"Designers\", \"Non-designers\"], index=[\"Words\", \"Non-words\"])\n",
    "errors = pd.DataFrame(columns=[\"Designers\", \"Non-designers\"], index=[\"Words\", \"Non-words\"])\n",
    "for i, metric in enumerate([\"AUCnorm_word\", \"AUCnorm_nonword\"]):\n",
    "    category = [\"Words\", \"Non-words\"][i]\n",
    "    print(\"Comparison between designers vs. non-designers for\", category.lower(), \"only in study #2\")\n",
    "    x = st[st[\"isDesigner\"] == True]\n",
    "    y = st[st[\"isDesigner\"] == False]\n",
    "    res = pg.mwu(x[metric], y[metric], tail=\"two-sided\")\n",
    "    display(res)\n",
    "    if res.loc[\"MWU\", \"p-val\"] > alpha:\n",
    "        print(\"----> the median is the same\")\n",
    "        print()\n",
    "    else:\n",
    "        print(\"----> the median is different\")\n",
    "        print()\n",
    "    # plot it using non-normalized metric\n",
    "    metric_ = metric.replace(\"norm\", \"\")\n",
    "    means[\"Designers\"][category] = x[metric_].mean()\n",
    "    errors[\"Designers\"][category] = x[metric_].sem()\n",
    "    means[\"Non-designers\"][category] = y[metric_].mean()\n",
    "    errors[\"Non-designers\"][category] = y[metric_].sem()\n",
    "means.plot.bar(yerr=errors,\n",
    "               capsize=4,\n",
    "               grid=True,\n",
    "               ylim=get_scale(\"AUC\"),\n",
    "               rot=0,\n",
    "               title=\"AUC for words and non-words in study #2\")\n",
    "print()\n",
    "print()"
   ]
  },
  {
   "cell_type": "markdown",
   "metadata": {},
   "source": [
    "# Comparison between word types, grouped by training"
   ]
  },
  {
   "cell_type": "code",
   "execution_count": 4,
   "metadata": {},
   "outputs": [
    {
     "name": "stdout",
     "output_type": "stream",
     "text": [
      "Comparison between words and non-words for designers , only in study #2\n"
     ]
    },
    {
     "data": {
      "text/html": [
       "<div>\n",
       "<style scoped>\n",
       "    .dataframe tbody tr th:only-of-type {\n",
       "        vertical-align: middle;\n",
       "    }\n",
       "\n",
       "    .dataframe tbody tr th {\n",
       "        vertical-align: top;\n",
       "    }\n",
       "\n",
       "    .dataframe thead th {\n",
       "        text-align: right;\n",
       "    }\n",
       "</style>\n",
       "<table border=\"1\" class=\"dataframe\">\n",
       "  <thead>\n",
       "    <tr style=\"text-align: right;\">\n",
       "      <th></th>\n",
       "      <th>W-val</th>\n",
       "      <th>tail</th>\n",
       "      <th>p-val</th>\n",
       "      <th>RBC</th>\n",
       "      <th>CLES</th>\n",
       "    </tr>\n",
       "  </thead>\n",
       "  <tbody>\n",
       "    <tr>\n",
       "      <td>Wilcoxon</td>\n",
       "      <td>1794.0</td>\n",
       "      <td>two-sided</td>\n",
       "      <td>0.097583</td>\n",
       "      <td>0.196</td>\n",
       "      <td>0.472</td>\n",
       "    </tr>\n",
       "  </tbody>\n",
       "</table>\n",
       "</div>"
      ],
      "text/plain": [
       "           W-val       tail     p-val    RBC   CLES\n",
       "Wilcoxon  1794.0  two-sided  0.097583  0.196  0.472"
      ]
     },
     "metadata": {},
     "output_type": "display_data"
    },
    {
     "name": "stdout",
     "output_type": "stream",
     "text": [
      "----> the median is the same\n",
      "\n",
      "Comparison between words and non-words for non-designers , only in study #2\n"
     ]
    },
    {
     "data": {
      "text/html": [
       "<div>\n",
       "<style scoped>\n",
       "    .dataframe tbody tr th:only-of-type {\n",
       "        vertical-align: middle;\n",
       "    }\n",
       "\n",
       "    .dataframe tbody tr th {\n",
       "        vertical-align: top;\n",
       "    }\n",
       "\n",
       "    .dataframe thead th {\n",
       "        text-align: right;\n",
       "    }\n",
       "</style>\n",
       "<table border=\"1\" class=\"dataframe\">\n",
       "  <thead>\n",
       "    <tr style=\"text-align: right;\">\n",
       "      <th></th>\n",
       "      <th>W-val</th>\n",
       "      <th>tail</th>\n",
       "      <th>p-val</th>\n",
       "      <th>RBC</th>\n",
       "      <th>CLES</th>\n",
       "    </tr>\n",
       "  </thead>\n",
       "  <tbody>\n",
       "    <tr>\n",
       "      <td>Wilcoxon</td>\n",
       "      <td>1405.5</td>\n",
       "      <td>two-sided</td>\n",
       "      <td>0.030743</td>\n",
       "      <td>-0.266</td>\n",
       "      <td>0.448</td>\n",
       "    </tr>\n",
       "  </tbody>\n",
       "</table>\n",
       "</div>"
      ],
      "text/plain": [
       "           W-val       tail     p-val    RBC   CLES\n",
       "Wilcoxon  1405.5  two-sided  0.030743 -0.266  0.448"
      ]
     },
     "metadata": {},
     "output_type": "display_data"
    },
    {
     "name": "stdout",
     "output_type": "stream",
     "text": [
      "----> the median is different\n",
      "\n",
      "\n",
      "\n"
     ]
    },
    {
     "data": {
      "image/png": "[encoded data removed]",
      "text/plain": [
       "<Figure size 432x288 with 1 Axes>"
      ]
     },
     "metadata": {
      "needs_background": "light"
     },
     "output_type": "display_data"
    }
   ],
   "source": [
    "# Comparison of AUC\n",
    "# between word types, grouped by training\n",
    "# using Wilcoxon\n",
    "\n",
    "# only for study #2\n",
    "sid = 2\n",
    "st = st_[st_[\"StudyID\"] == sid]\n",
    "\n",
    "means = pd.DataFrame(columns=[\"Words\", \"Non-words\"], index=[\"Designers\", \"Non-designers\"])\n",
    "errors = pd.DataFrame(columns=[\"Words\", \"Non-words\"], index=[\"Designers\", \"Non-designers\"])\n",
    "for isDesigner in [True, False]:\n",
    "    designer_ = [\"Non-designers\", \"Designers\"][isDesigner]\n",
    "    print(\"Comparison between words and non-words for\", designer_.lower(), \", only in study #2\")\n",
    "    x = st[st[\"isDesigner\"] == isDesigner]\n",
    "    res = pg.wilcoxon(x[\"AUC_word\"], x[\"AUC_nonword\"], tail=\"two-sided\")\n",
    "    display(res)\n",
    "    if res.loc[\"Wilcoxon\", \"p-val\"] > alpha:\n",
    "        print(\"----> the median is the same\")\n",
    "        print()\n",
    "    else:\n",
    "        print(\"----> the median is different\")\n",
    "        print()\n",
    "    # plot it using non-normalized metric\n",
    "    metric_ = metric.replace(\"norm\", \"\")\n",
    "    means[\"Words\"][designer_] = x[\"AUC_word\"].mean()\n",
    "    errors[\"Words\"][designer_] = x[\"AUC_word\"].sem()\n",
    "    means[\"Non-words\"][designer_] = x[\"AUC_nonword\"].mean()\n",
    "    errors[\"Non-words\"][designer_] = x[\"AUC_nonword\"].sem()\n",
    "means.plot.bar(yerr=errors,\n",
    "               capsize=4,\n",
    "               grid=True,\n",
    "               ylim=get_scale(\"AUC\"),\n",
    "               rot=0,\n",
    "               title=\"AUC for designers and non-designers in study #2\")\n",
    "print()\n",
    "print()"
   ]
  },
  {
   "cell_type": "markdown",
   "metadata": {},
   "source": [
    "# Comparison between designers and non-designers (training), grouped by font"
   ]
  },
  {
   "cell_type": "code",
   "execution_count": 5,
   "metadata": {},
   "outputs": [
    {
     "name": "stdout",
     "output_type": "stream",
     "text": [
      "Comparison of AUCnorm between designers and non-designers for arial\n"
     ]
    },
    {
     "data": {
      "text/html": [
       "<div>\n",
       "<style scoped>\n",
       "    .dataframe tbody tr th:only-of-type {\n",
       "        vertical-align: middle;\n",
       "    }\n",
       "\n",
       "    .dataframe tbody tr th {\n",
       "        vertical-align: top;\n",
       "    }\n",
       "\n",
       "    .dataframe thead th {\n",
       "        text-align: right;\n",
       "    }\n",
       "</style>\n",
       "<table border=\"1\" class=\"dataframe\">\n",
       "  <thead>\n",
       "    <tr style=\"text-align: right;\">\n",
       "      <th></th>\n",
       "      <th>U-val</th>\n",
       "      <th>tail</th>\n",
       "      <th>p-val</th>\n",
       "      <th>RBC</th>\n",
       "      <th>CLES</th>\n",
       "    </tr>\n",
       "  </thead>\n",
       "  <tbody>\n",
       "    <tr>\n",
       "      <td>MWU</td>\n",
       "      <td>5292.5</td>\n",
       "      <td>two-sided</td>\n",
       "      <td>0.092499</td>\n",
       "      <td>0.114</td>\n",
       "      <td>0.348</td>\n",
       "    </tr>\n",
       "  </tbody>\n",
       "</table>\n",
       "</div>"
      ],
      "text/plain": [
       "      U-val       tail     p-val    RBC   CLES\n",
       "MWU  5292.5  two-sided  0.092499  0.114  0.348"
      ]
     },
     "metadata": {},
     "output_type": "display_data"
    },
    {
     "name": "stdout",
     "output_type": "stream",
     "text": [
      "----> the median is the same\n",
      "\n",
      "Comparison of AUCnorm between designers and non-designers for sansforgetica\n"
     ]
    },
    {
     "data": {
      "text/html": [
       "<div>\n",
       "<style scoped>\n",
       "    .dataframe tbody tr th:only-of-type {\n",
       "        vertical-align: middle;\n",
       "    }\n",
       "\n",
       "    .dataframe tbody tr th {\n",
       "        vertical-align: top;\n",
       "    }\n",
       "\n",
       "    .dataframe thead th {\n",
       "        text-align: right;\n",
       "    }\n",
       "</style>\n",
       "<table border=\"1\" class=\"dataframe\">\n",
       "  <thead>\n",
       "    <tr style=\"text-align: right;\">\n",
       "      <th></th>\n",
       "      <th>U-val</th>\n",
       "      <th>tail</th>\n",
       "      <th>p-val</th>\n",
       "      <th>RBC</th>\n",
       "      <th>CLES</th>\n",
       "    </tr>\n",
       "  </thead>\n",
       "  <tbody>\n",
       "    <tr>\n",
       "      <td>MWU</td>\n",
       "      <td>5019.5</td>\n",
       "      <td>two-sided</td>\n",
       "      <td>0.019245</td>\n",
       "      <td>0.16</td>\n",
       "      <td>0.378</td>\n",
       "    </tr>\n",
       "  </tbody>\n",
       "</table>\n",
       "</div>"
      ],
      "text/plain": [
       "      U-val       tail     p-val   RBC   CLES\n",
       "MWU  5019.5  two-sided  0.019245  0.16  0.378"
      ]
     },
     "metadata": {},
     "output_type": "display_data"
    },
    {
     "name": "stdout",
     "output_type": "stream",
     "text": [
      "----> the median is different\n",
      "\n",
      "Comparison of Correctnorm between designers and non-designers for arial\n"
     ]
    },
    {
     "data": {
      "text/html": [
       "<div>\n",
       "<style scoped>\n",
       "    .dataframe tbody tr th:only-of-type {\n",
       "        vertical-align: middle;\n",
       "    }\n",
       "\n",
       "    .dataframe tbody tr th {\n",
       "        vertical-align: top;\n",
       "    }\n",
       "\n",
       "    .dataframe thead th {\n",
       "        text-align: right;\n",
       "    }\n",
       "</style>\n",
       "<table border=\"1\" class=\"dataframe\">\n",
       "  <thead>\n",
       "    <tr style=\"text-align: right;\">\n",
       "      <th></th>\n",
       "      <th>U-val</th>\n",
       "      <th>tail</th>\n",
       "      <th>p-val</th>\n",
       "      <th>RBC</th>\n",
       "      <th>CLES</th>\n",
       "    </tr>\n",
       "  </thead>\n",
       "  <tbody>\n",
       "    <tr>\n",
       "      <td>MWU</td>\n",
       "      <td>4622.5</td>\n",
       "      <td>two-sided</td>\n",
       "      <td>0.003159</td>\n",
       "      <td>0.226</td>\n",
       "      <td>0.522</td>\n",
       "    </tr>\n",
       "  </tbody>\n",
       "</table>\n",
       "</div>"
      ],
      "text/plain": [
       "      U-val       tail     p-val    RBC   CLES\n",
       "MWU  4622.5  two-sided  0.003159  0.226  0.522"
      ]
     },
     "metadata": {},
     "output_type": "display_data"
    },
    {
     "name": "stdout",
     "output_type": "stream",
     "text": [
      "----> the median is different\n",
      "\n",
      "Comparison of Correctnorm between designers and non-designers for sansforgetica\n"
     ]
    },
    {
     "data": {
      "text/html": [
       "<div>\n",
       "<style scoped>\n",
       "    .dataframe tbody tr th:only-of-type {\n",
       "        vertical-align: middle;\n",
       "    }\n",
       "\n",
       "    .dataframe tbody tr th {\n",
       "        vertical-align: top;\n",
       "    }\n",
       "\n",
       "    .dataframe thead th {\n",
       "        text-align: right;\n",
       "    }\n",
       "</style>\n",
       "<table border=\"1\" class=\"dataframe\">\n",
       "  <thead>\n",
       "    <tr style=\"text-align: right;\">\n",
       "      <th></th>\n",
       "      <th>U-val</th>\n",
       "      <th>tail</th>\n",
       "      <th>p-val</th>\n",
       "      <th>RBC</th>\n",
       "      <th>CLES</th>\n",
       "    </tr>\n",
       "  </thead>\n",
       "  <tbody>\n",
       "    <tr>\n",
       "      <td>MWU</td>\n",
       "      <td>3841.0</td>\n",
       "      <td>two-sided</td>\n",
       "      <td>0.000003</td>\n",
       "      <td>0.357</td>\n",
       "      <td>0.583</td>\n",
       "    </tr>\n",
       "  </tbody>\n",
       "</table>\n",
       "</div>"
      ],
      "text/plain": [
       "      U-val       tail     p-val    RBC   CLES\n",
       "MWU  3841.0  two-sided  0.000003  0.357  0.583"
      ]
     },
     "metadata": {},
     "output_type": "display_data"
    },
    {
     "name": "stdout",
     "output_type": "stream",
     "text": [
      "----> the median is different\n",
      "\n",
      "Comparison of JoM between designers and non-designers for arial\n"
     ]
    },
    {
     "data": {
      "text/html": [
       "<div>\n",
       "<style scoped>\n",
       "    .dataframe tbody tr th:only-of-type {\n",
       "        vertical-align: middle;\n",
       "    }\n",
       "\n",
       "    .dataframe tbody tr th {\n",
       "        vertical-align: top;\n",
       "    }\n",
       "\n",
       "    .dataframe thead th {\n",
       "        text-align: right;\n",
       "    }\n",
       "</style>\n",
       "<table border=\"1\" class=\"dataframe\">\n",
       "  <thead>\n",
       "    <tr style=\"text-align: right;\">\n",
       "      <th></th>\n",
       "      <th>U-val</th>\n",
       "      <th>tail</th>\n",
       "      <th>p-val</th>\n",
       "      <th>RBC</th>\n",
       "      <th>CLES</th>\n",
       "    </tr>\n",
       "  </thead>\n",
       "  <tbody>\n",
       "    <tr>\n",
       "      <td>MWU</td>\n",
       "      <td>6659.5</td>\n",
       "      <td>two-sided</td>\n",
       "      <td>0.14112</td>\n",
       "      <td>-0.115</td>\n",
       "      <td>0.528</td>\n",
       "    </tr>\n",
       "  </tbody>\n",
       "</table>\n",
       "</div>"
      ],
      "text/plain": [
       "      U-val       tail    p-val    RBC   CLES\n",
       "MWU  6659.5  two-sided  0.14112 -0.115  0.528"
      ]
     },
     "metadata": {},
     "output_type": "display_data"
    },
    {
     "name": "stdout",
     "output_type": "stream",
     "text": [
      "----> the median is the same\n",
      "\n",
      "Comparison of JoM between designers and non-designers for sansforgetica\n"
     ]
    },
    {
     "data": {
      "text/html": [
       "<div>\n",
       "<style scoped>\n",
       "    .dataframe tbody tr th:only-of-type {\n",
       "        vertical-align: middle;\n",
       "    }\n",
       "\n",
       "    .dataframe tbody tr th {\n",
       "        vertical-align: top;\n",
       "    }\n",
       "\n",
       "    .dataframe thead th {\n",
       "        text-align: right;\n",
       "    }\n",
       "</style>\n",
       "<table border=\"1\" class=\"dataframe\">\n",
       "  <thead>\n",
       "    <tr style=\"text-align: right;\">\n",
       "      <th></th>\n",
       "      <th>U-val</th>\n",
       "      <th>tail</th>\n",
       "      <th>p-val</th>\n",
       "      <th>RBC</th>\n",
       "      <th>CLES</th>\n",
       "    </tr>\n",
       "  </thead>\n",
       "  <tbody>\n",
       "    <tr>\n",
       "      <td>MWU</td>\n",
       "      <td>6016.0</td>\n",
       "      <td>two-sided</td>\n",
       "      <td>0.929005</td>\n",
       "      <td>-0.007</td>\n",
       "      <td>0.476</td>\n",
       "    </tr>\n",
       "  </tbody>\n",
       "</table>\n",
       "</div>"
      ],
      "text/plain": [
       "      U-val       tail     p-val    RBC   CLES\n",
       "MWU  6016.0  two-sided  0.929005 -0.007  0.476"
      ]
     },
     "metadata": {},
     "output_type": "display_data"
    },
    {
     "name": "stdout",
     "output_type": "stream",
     "text": [
      "----> the median is the same\n",
      "\n"
     ]
    },
    {
     "data": {
      "image/png": "[encoded data removed]",
      "text/plain": [
       "<Figure size 1080x360 with 3 Axes>"
      ]
     },
     "metadata": {
      "needs_background": "light"
     },
     "output_type": "display_data"
    }
   ],
   "source": [
    "# Comparison of AUC, Correct, and JoM\n",
    "# between designers and non-designers, grouped by font\n",
    "# using MWU\n",
    "\n",
    "st = st_[st_[\"Type\"] == \"lexical\"]\n",
    "metrics = [\"AUCnorm\", \"Correctnorm\", \"JoM\"]\n",
    "\n",
    "# set up plots\n",
    "fig, axes = plt.subplots(1, 3, figsize=(15, 5))\n",
    "plt.subplots_adjust(wspace=0.2, hspace=0.5)\n",
    "\n",
    "for i, metric in enumerate(metrics):\n",
    "    metric_ = metric.replace(\"norm\", \"\")\n",
    "    means = pd.DataFrame(columns=[\"Designers\", \"Non-designers\"], index=[\"Arial\", \"Sans Forgetica\"])\n",
    "    errors = pd.DataFrame(columns=[\"Designers\", \"Non-designers\"], index=[\"Arial\", \"Sans Forgetica\"])\n",
    "    for font in [\"arial\", \"sansforgetica\"]:\n",
    "        print(\"Comparison of\", metric, \"between designers and non-designers for\", font)\n",
    "        x = st[(st[\"isDesigner\"] == True) & (st[\"Font\"] == font)]\n",
    "        y = st[(st[\"isDesigner\"] == False) & (st[\"Font\"] == font)]\n",
    "        res = pg.mwu(x[metric], y[metric], tail=\"two-sided\")\n",
    "        display(res)\n",
    "        if res.loc[\"MWU\", \"p-val\"] > alpha:\n",
    "            print(\"----> the median is the same\")\n",
    "            print()\n",
    "        else:\n",
    "            print(\"----> the median is different\")\n",
    "            print()\n",
    "        # plot it\n",
    "        font_ = font.title().replace(\"Sansf\", \"Sans F\")\n",
    "        means[\"Designers\"][font_] = x[metric_].mean()\n",
    "        means[\"Non-designers\"][font_] = y[metric_].mean()\n",
    "        errors[\"Designers\"][font_] = x[metric_].sem()\n",
    "        errors[\"Non-designers\"][font_] = y[metric_].sem()\n",
    "    means.plot.bar(yerr=errors,\n",
    "                   capsize=4,\n",
    "                   ax=axes[i],\n",
    "                   grid=True,\n",
    "                   ylim=get_scale(metric_),\n",
    "                   rot=0,\n",
    "                   title=\"Comparison of %s in both studies\" % metric_)"
   ]
  },
  {
   "cell_type": "markdown",
   "metadata": {},
   "source": [
    "# Comparison between designers and non-designers in studies #1 and #2"
   ]
  },
  {
   "cell_type": "code",
   "execution_count": 6,
   "metadata": {},
   "outputs": [
    {
     "name": "stdout",
     "output_type": "stream",
     "text": [
      "--------------------------------------------------------------------------------\n",
      "Comparison of AUC between designers and non-designers, for both tasks\n",
      "Study 1\n"
     ]
    },
    {
     "data": {
      "text/html": [
       "<div>\n",
       "<style scoped>\n",
       "    .dataframe tbody tr th:only-of-type {\n",
       "        vertical-align: middle;\n",
       "    }\n",
       "\n",
       "    .dataframe tbody tr th {\n",
       "        vertical-align: top;\n",
       "    }\n",
       "\n",
       "    .dataframe thead th {\n",
       "        text-align: right;\n",
       "    }\n",
       "</style>\n",
       "<table border=\"1\" class=\"dataframe\">\n",
       "  <thead>\n",
       "    <tr style=\"text-align: right;\">\n",
       "      <th></th>\n",
       "      <th>U-val</th>\n",
       "      <th>tail</th>\n",
       "      <th>p-val</th>\n",
       "      <th>RBC</th>\n",
       "      <th>CLES</th>\n",
       "    </tr>\n",
       "  </thead>\n",
       "  <tbody>\n",
       "    <tr>\n",
       "      <td>MWU</td>\n",
       "      <td>18126.0</td>\n",
       "      <td>two-sided</td>\n",
       "      <td>0.612991</td>\n",
       "      <td>0.028</td>\n",
       "      <td>0.404</td>\n",
       "    </tr>\n",
       "  </tbody>\n",
       "</table>\n",
       "</div>"
      ],
      "text/plain": [
       "       U-val       tail     p-val    RBC   CLES\n",
       "MWU  18126.0  two-sided  0.612991  0.028  0.404"
      ]
     },
     "metadata": {},
     "output_type": "display_data"
    },
    {
     "name": "stdout",
     "output_type": "stream",
     "text": [
      "----> the median is the same\n",
      "\n",
      "Study 2\n"
     ]
    },
    {
     "data": {
      "text/html": [
       "<div>\n",
       "<style scoped>\n",
       "    .dataframe tbody tr th:only-of-type {\n",
       "        vertical-align: middle;\n",
       "    }\n",
       "\n",
       "    .dataframe tbody tr th {\n",
       "        vertical-align: top;\n",
       "    }\n",
       "\n",
       "    .dataframe thead th {\n",
       "        text-align: right;\n",
       "    }\n",
       "</style>\n",
       "<table border=\"1\" class=\"dataframe\">\n",
       "  <thead>\n",
       "    <tr style=\"text-align: right;\">\n",
       "      <th></th>\n",
       "      <th>U-val</th>\n",
       "      <th>tail</th>\n",
       "      <th>p-val</th>\n",
       "      <th>RBC</th>\n",
       "      <th>CLES</th>\n",
       "    </tr>\n",
       "  </thead>\n",
       "  <tbody>\n",
       "    <tr>\n",
       "      <td>MWU</td>\n",
       "      <td>24511.5</td>\n",
       "      <td>two-sided</td>\n",
       "      <td>0.000576</td>\n",
       "      <td>0.176</td>\n",
       "      <td>0.516</td>\n",
       "    </tr>\n",
       "  </tbody>\n",
       "</table>\n",
       "</div>"
      ],
      "text/plain": [
       "       U-val       tail     p-val    RBC   CLES\n",
       "MWU  24511.5  two-sided  0.000576  0.176  0.516"
      ]
     },
     "metadata": {},
     "output_type": "display_data"
    },
    {
     "name": "stdout",
     "output_type": "stream",
     "text": [
      "----> the median is different\n",
      "\n",
      "Comparison of Correct between designers and non-designers, for both tasks\n",
      "Study 1\n"
     ]
    },
    {
     "data": {
      "text/html": [
       "<div>\n",
       "<style scoped>\n",
       "    .dataframe tbody tr th:only-of-type {\n",
       "        vertical-align: middle;\n",
       "    }\n",
       "\n",
       "    .dataframe tbody tr th {\n",
       "        vertical-align: top;\n",
       "    }\n",
       "\n",
       "    .dataframe thead th {\n",
       "        text-align: right;\n",
       "    }\n",
       "</style>\n",
       "<table border=\"1\" class=\"dataframe\">\n",
       "  <thead>\n",
       "    <tr style=\"text-align: right;\">\n",
       "      <th></th>\n",
       "      <th>U-val</th>\n",
       "      <th>tail</th>\n",
       "      <th>p-val</th>\n",
       "      <th>RBC</th>\n",
       "      <th>CLES</th>\n",
       "    </tr>\n",
       "  </thead>\n",
       "  <tbody>\n",
       "    <tr>\n",
       "      <td>MWU</td>\n",
       "      <td>16234.5</td>\n",
       "      <td>two-sided</td>\n",
       "      <td>0.025937</td>\n",
       "      <td>0.13</td>\n",
       "      <td>0.501</td>\n",
       "    </tr>\n",
       "  </tbody>\n",
       "</table>\n",
       "</div>"
      ],
      "text/plain": [
       "       U-val       tail     p-val   RBC   CLES\n",
       "MWU  16234.5  two-sided  0.025937  0.13  0.501"
      ]
     },
     "metadata": {},
     "output_type": "display_data"
    },
    {
     "name": "stdout",
     "output_type": "stream",
     "text": [
      "----> the median is different\n",
      "\n",
      "Study 2\n"
     ]
    },
    {
     "data": {
      "text/html": [
       "<div>\n",
       "<style scoped>\n",
       "    .dataframe tbody tr th:only-of-type {\n",
       "        vertical-align: middle;\n",
       "    }\n",
       "\n",
       "    .dataframe tbody tr th {\n",
       "        vertical-align: top;\n",
       "    }\n",
       "\n",
       "    .dataframe thead th {\n",
       "        text-align: right;\n",
       "    }\n",
       "</style>\n",
       "<table border=\"1\" class=\"dataframe\">\n",
       "  <thead>\n",
       "    <tr style=\"text-align: right;\">\n",
       "      <th></th>\n",
       "      <th>U-val</th>\n",
       "      <th>tail</th>\n",
       "      <th>p-val</th>\n",
       "      <th>RBC</th>\n",
       "      <th>CLES</th>\n",
       "    </tr>\n",
       "  </thead>\n",
       "  <tbody>\n",
       "    <tr>\n",
       "      <td>MWU</td>\n",
       "      <td>21913.0</td>\n",
       "      <td>two-sided</td>\n",
       "      <td>4.207985e-07</td>\n",
       "      <td>0.263</td>\n",
       "      <td>0.583</td>\n",
       "    </tr>\n",
       "  </tbody>\n",
       "</table>\n",
       "</div>"
      ],
      "text/plain": [
       "       U-val       tail         p-val    RBC   CLES\n",
       "MWU  21913.0  two-sided  4.207985e-07  0.263  0.583"
      ]
     },
     "metadata": {},
     "output_type": "display_data"
    },
    {
     "name": "stdout",
     "output_type": "stream",
     "text": [
      "----> the median is different\n",
      "\n",
      "Comparison of JoM between designers and non-designers, for both tasks\n",
      "Study 1\n"
     ]
    },
    {
     "data": {
      "text/html": [
       "<div>\n",
       "<style scoped>\n",
       "    .dataframe tbody tr th:only-of-type {\n",
       "        vertical-align: middle;\n",
       "    }\n",
       "\n",
       "    .dataframe tbody tr th {\n",
       "        vertical-align: top;\n",
       "    }\n",
       "\n",
       "    .dataframe thead th {\n",
       "        text-align: right;\n",
       "    }\n",
       "</style>\n",
       "<table border=\"1\" class=\"dataframe\">\n",
       "  <thead>\n",
       "    <tr style=\"text-align: right;\">\n",
       "      <th></th>\n",
       "      <th>U-val</th>\n",
       "      <th>tail</th>\n",
       "      <th>p-val</th>\n",
       "      <th>RBC</th>\n",
       "      <th>CLES</th>\n",
       "    </tr>\n",
       "  </thead>\n",
       "  <tbody>\n",
       "    <tr>\n",
       "      <td>MWU</td>\n",
       "      <td>19374.0</td>\n",
       "      <td>two-sided</td>\n",
       "      <td>0.512082</td>\n",
       "      <td>-0.038</td>\n",
       "      <td>0.494</td>\n",
       "    </tr>\n",
       "  </tbody>\n",
       "</table>\n",
       "</div>"
      ],
      "text/plain": [
       "       U-val       tail     p-val    RBC   CLES\n",
       "MWU  19374.0  two-sided  0.512082 -0.038  0.494"
      ]
     },
     "metadata": {},
     "output_type": "display_data"
    },
    {
     "name": "stdout",
     "output_type": "stream",
     "text": [
      "----> the median is the same\n",
      "\n",
      "Study 2\n"
     ]
    },
    {
     "data": {
      "text/html": [
       "<div>\n",
       "<style scoped>\n",
       "    .dataframe tbody tr th:only-of-type {\n",
       "        vertical-align: middle;\n",
       "    }\n",
       "\n",
       "    .dataframe tbody tr th {\n",
       "        vertical-align: top;\n",
       "    }\n",
       "\n",
       "    .dataframe thead th {\n",
       "        text-align: right;\n",
       "    }\n",
       "</style>\n",
       "<table border=\"1\" class=\"dataframe\">\n",
       "  <thead>\n",
       "    <tr style=\"text-align: right;\">\n",
       "      <th></th>\n",
       "      <th>U-val</th>\n",
       "      <th>tail</th>\n",
       "      <th>p-val</th>\n",
       "      <th>RBC</th>\n",
       "      <th>CLES</th>\n",
       "    </tr>\n",
       "  </thead>\n",
       "  <tbody>\n",
       "    <tr>\n",
       "      <td>MWU</td>\n",
       "      <td>31898.0</td>\n",
       "      <td>two-sided</td>\n",
       "      <td>0.162741</td>\n",
       "      <td>-0.073</td>\n",
       "      <td>0.507</td>\n",
       "    </tr>\n",
       "  </tbody>\n",
       "</table>\n",
       "</div>"
      ],
      "text/plain": [
       "       U-val       tail     p-val    RBC   CLES\n",
       "MWU  31898.0  two-sided  0.162741 -0.073  0.507"
      ]
     },
     "metadata": {},
     "output_type": "display_data"
    },
    {
     "name": "stdout",
     "output_type": "stream",
     "text": [
      "----> the median is the same\n",
      "\n",
      "\n",
      "\n",
      "\n",
      "--------------------------------------------------------------------------------\n",
      "Comparison of AUC between designers and non-designers, lexical task only\n",
      "Study 1\n"
     ]
    },
    {
     "data": {
      "text/html": [
       "<div>\n",
       "<style scoped>\n",
       "    .dataframe tbody tr th:only-of-type {\n",
       "        vertical-align: middle;\n",
       "    }\n",
       "\n",
       "    .dataframe tbody tr th {\n",
       "        vertical-align: top;\n",
       "    }\n",
       "\n",
       "    .dataframe thead th {\n",
       "        text-align: right;\n",
       "    }\n",
       "</style>\n",
       "<table border=\"1\" class=\"dataframe\">\n",
       "  <thead>\n",
       "    <tr style=\"text-align: right;\">\n",
       "      <th></th>\n",
       "      <th>U-val</th>\n",
       "      <th>tail</th>\n",
       "      <th>p-val</th>\n",
       "      <th>RBC</th>\n",
       "      <th>CLES</th>\n",
       "    </tr>\n",
       "  </thead>\n",
       "  <tbody>\n",
       "    <tr>\n",
       "      <td>MWU</td>\n",
       "      <td>4481.0</td>\n",
       "      <td>two-sided</td>\n",
       "      <td>0.572597</td>\n",
       "      <td>0.039</td>\n",
       "      <td>0.282</td>\n",
       "    </tr>\n",
       "  </tbody>\n",
       "</table>\n",
       "</div>"
      ],
      "text/plain": [
       "      U-val       tail     p-val    RBC   CLES\n",
       "MWU  4481.0  two-sided  0.572597  0.039  0.282"
      ]
     },
     "metadata": {},
     "output_type": "display_data"
    },
    {
     "name": "stdout",
     "output_type": "stream",
     "text": [
      "----> the median is the same\n",
      "\n",
      "Study 2\n"
     ]
    },
    {
     "data": {
      "text/html": [
       "<div>\n",
       "<style scoped>\n",
       "    .dataframe tbody tr th:only-of-type {\n",
       "        vertical-align: middle;\n",
       "    }\n",
       "\n",
       "    .dataframe tbody tr th {\n",
       "        vertical-align: top;\n",
       "    }\n",
       "\n",
       "    .dataframe thead th {\n",
       "        text-align: right;\n",
       "    }\n",
       "</style>\n",
       "<table border=\"1\" class=\"dataframe\">\n",
       "  <thead>\n",
       "    <tr style=\"text-align: right;\">\n",
       "      <th></th>\n",
       "      <th>U-val</th>\n",
       "      <th>tail</th>\n",
       "      <th>p-val</th>\n",
       "      <th>RBC</th>\n",
       "      <th>CLES</th>\n",
       "    </tr>\n",
       "  </thead>\n",
       "  <tbody>\n",
       "    <tr>\n",
       "      <td>MWU</td>\n",
       "      <td>5764.0</td>\n",
       "      <td>two-sided</td>\n",
       "      <td>0.000687</td>\n",
       "      <td>0.225</td>\n",
       "      <td>0.432</td>\n",
       "    </tr>\n",
       "  </tbody>\n",
       "</table>\n",
       "</div>"
      ],
      "text/plain": [
       "      U-val       tail     p-val    RBC   CLES\n",
       "MWU  5764.0  two-sided  0.000687  0.225  0.432"
      ]
     },
     "metadata": {},
     "output_type": "display_data"
    },
    {
     "name": "stdout",
     "output_type": "stream",
     "text": [
      "----> the median is different\n",
      "\n",
      "Comparison of Correct between designers and non-designers, lexical task only\n",
      "Study 1\n"
     ]
    },
    {
     "data": {
      "text/html": [
       "<div>\n",
       "<style scoped>\n",
       "    .dataframe tbody tr th:only-of-type {\n",
       "        vertical-align: middle;\n",
       "    }\n",
       "\n",
       "    .dataframe tbody tr th {\n",
       "        vertical-align: top;\n",
       "    }\n",
       "\n",
       "    .dataframe thead th {\n",
       "        text-align: right;\n",
       "    }\n",
       "</style>\n",
       "<table border=\"1\" class=\"dataframe\">\n",
       "  <thead>\n",
       "    <tr style=\"text-align: right;\">\n",
       "      <th></th>\n",
       "      <th>U-val</th>\n",
       "      <th>tail</th>\n",
       "      <th>p-val</th>\n",
       "      <th>RBC</th>\n",
       "      <th>CLES</th>\n",
       "    </tr>\n",
       "  </thead>\n",
       "  <tbody>\n",
       "    <tr>\n",
       "      <td>MWU</td>\n",
       "      <td>3725.0</td>\n",
       "      <td>two-sided</td>\n",
       "      <td>0.012782</td>\n",
       "      <td>0.201</td>\n",
       "      <td>0.493</td>\n",
       "    </tr>\n",
       "  </tbody>\n",
       "</table>\n",
       "</div>"
      ],
      "text/plain": [
       "      U-val       tail     p-val    RBC   CLES\n",
       "MWU  3725.0  two-sided  0.012782  0.201  0.493"
      ]
     },
     "metadata": {},
     "output_type": "display_data"
    },
    {
     "name": "stdout",
     "output_type": "stream",
     "text": [
      "----> the median is different\n",
      "\n",
      "Study 2\n"
     ]
    },
    {
     "data": {
      "text/html": [
       "<div>\n",
       "<style scoped>\n",
       "    .dataframe tbody tr th:only-of-type {\n",
       "        vertical-align: middle;\n",
       "    }\n",
       "\n",
       "    .dataframe tbody tr th {\n",
       "        vertical-align: top;\n",
       "    }\n",
       "\n",
       "    .dataframe thead th {\n",
       "        text-align: right;\n",
       "    }\n",
       "</style>\n",
       "<table border=\"1\" class=\"dataframe\">\n",
       "  <thead>\n",
       "    <tr style=\"text-align: right;\">\n",
       "      <th></th>\n",
       "      <th>U-val</th>\n",
       "      <th>tail</th>\n",
       "      <th>p-val</th>\n",
       "      <th>RBC</th>\n",
       "      <th>CLES</th>\n",
       "    </tr>\n",
       "  </thead>\n",
       "  <tbody>\n",
       "    <tr>\n",
       "      <td>MWU</td>\n",
       "      <td>4629.5</td>\n",
       "      <td>two-sided</td>\n",
       "      <td>2.020186e-07</td>\n",
       "      <td>0.377</td>\n",
       "      <td>0.606</td>\n",
       "    </tr>\n",
       "  </tbody>\n",
       "</table>\n",
       "</div>"
      ],
      "text/plain": [
       "      U-val       tail         p-val    RBC   CLES\n",
       "MWU  4629.5  two-sided  2.020186e-07  0.377  0.606"
      ]
     },
     "metadata": {},
     "output_type": "display_data"
    },
    {
     "name": "stdout",
     "output_type": "stream",
     "text": [
      "----> the median is different\n",
      "\n",
      "Comparison of JoM between designers and non-designers, lexical task only\n",
      "Study 1\n"
     ]
    },
    {
     "data": {
      "text/html": [
       "<div>\n",
       "<style scoped>\n",
       "    .dataframe tbody tr th:only-of-type {\n",
       "        vertical-align: middle;\n",
       "    }\n",
       "\n",
       "    .dataframe tbody tr th {\n",
       "        vertical-align: top;\n",
       "    }\n",
       "\n",
       "    .dataframe thead th {\n",
       "        text-align: right;\n",
       "    }\n",
       "</style>\n",
       "<table border=\"1\" class=\"dataframe\">\n",
       "  <thead>\n",
       "    <tr style=\"text-align: right;\">\n",
       "      <th></th>\n",
       "      <th>U-val</th>\n",
       "      <th>tail</th>\n",
       "      <th>p-val</th>\n",
       "      <th>RBC</th>\n",
       "      <th>CLES</th>\n",
       "    </tr>\n",
       "  </thead>\n",
       "  <tbody>\n",
       "    <tr>\n",
       "      <td>MWU</td>\n",
       "      <td>4843.5</td>\n",
       "      <td>two-sided</td>\n",
       "      <td>0.644073</td>\n",
       "      <td>-0.038</td>\n",
       "      <td>0.494</td>\n",
       "    </tr>\n",
       "  </tbody>\n",
       "</table>\n",
       "</div>"
      ],
      "text/plain": [
       "      U-val       tail     p-val    RBC   CLES\n",
       "MWU  4843.5  two-sided  0.644073 -0.038  0.494"
      ]
     },
     "metadata": {},
     "output_type": "display_data"
    },
    {
     "name": "stdout",
     "output_type": "stream",
     "text": [
      "----> the median is the same\n",
      "\n",
      "Study 2\n"
     ]
    },
    {
     "data": {
      "text/html": [
       "<div>\n",
       "<style scoped>\n",
       "    .dataframe tbody tr th:only-of-type {\n",
       "        vertical-align: middle;\n",
       "    }\n",
       "\n",
       "    .dataframe tbody tr th {\n",
       "        vertical-align: top;\n",
       "    }\n",
       "\n",
       "    .dataframe thead th {\n",
       "        text-align: right;\n",
       "    }\n",
       "</style>\n",
       "<table border=\"1\" class=\"dataframe\">\n",
       "  <thead>\n",
       "    <tr style=\"text-align: right;\">\n",
       "      <th></th>\n",
       "      <th>U-val</th>\n",
       "      <th>tail</th>\n",
       "      <th>p-val</th>\n",
       "      <th>RBC</th>\n",
       "      <th>CLES</th>\n",
       "    </tr>\n",
       "  </thead>\n",
       "  <tbody>\n",
       "    <tr>\n",
       "      <td>MWU</td>\n",
       "      <td>7974.5</td>\n",
       "      <td>two-sided</td>\n",
       "      <td>0.324447</td>\n",
       "      <td>-0.073</td>\n",
       "      <td>0.507</td>\n",
       "    </tr>\n",
       "  </tbody>\n",
       "</table>\n",
       "</div>"
      ],
      "text/plain": [
       "      U-val       tail     p-val    RBC   CLES\n",
       "MWU  7974.5  two-sided  0.324447 -0.073  0.507"
      ]
     },
     "metadata": {},
     "output_type": "display_data"
    },
    {
     "name": "stdout",
     "output_type": "stream",
     "text": [
      "----> the median is the same\n",
      "\n",
      "\n",
      "\n",
      "\n",
      "--------------------------------------------------------------------------------\n",
      "Comparison of AUC between designers and non-designers, recognition task only\n",
      "Study 1\n"
     ]
    },
    {
     "data": {
      "text/html": [
       "<div>\n",
       "<style scoped>\n",
       "    .dataframe tbody tr th:only-of-type {\n",
       "        vertical-align: middle;\n",
       "    }\n",
       "\n",
       "    .dataframe tbody tr th {\n",
       "        vertical-align: top;\n",
       "    }\n",
       "\n",
       "    .dataframe thead th {\n",
       "        text-align: right;\n",
       "    }\n",
       "</style>\n",
       "<table border=\"1\" class=\"dataframe\">\n",
       "  <thead>\n",
       "    <tr style=\"text-align: right;\">\n",
       "      <th></th>\n",
       "      <th>U-val</th>\n",
       "      <th>tail</th>\n",
       "      <th>p-val</th>\n",
       "      <th>RBC</th>\n",
       "      <th>CLES</th>\n",
       "    </tr>\n",
       "  </thead>\n",
       "  <tbody>\n",
       "    <tr>\n",
       "      <td>MWU</td>\n",
       "      <td>4435.5</td>\n",
       "      <td>two-sided</td>\n",
       "      <td>0.555039</td>\n",
       "      <td>0.049</td>\n",
       "      <td>0.481</td>\n",
       "    </tr>\n",
       "  </tbody>\n",
       "</table>\n",
       "</div>"
      ],
      "text/plain": [
       "      U-val       tail     p-val    RBC   CLES\n",
       "MWU  4435.5  two-sided  0.555039  0.049  0.481"
      ]
     },
     "metadata": {},
     "output_type": "display_data"
    },
    {
     "name": "stdout",
     "output_type": "stream",
     "text": [
      "----> the median is the same\n",
      "\n",
      "Study 2\n"
     ]
    },
    {
     "data": {
      "text/html": [
       "<div>\n",
       "<style scoped>\n",
       "    .dataframe tbody tr th:only-of-type {\n",
       "        vertical-align: middle;\n",
       "    }\n",
       "\n",
       "    .dataframe tbody tr th {\n",
       "        vertical-align: top;\n",
       "    }\n",
       "\n",
       "    .dataframe thead th {\n",
       "        text-align: right;\n",
       "    }\n",
       "</style>\n",
       "<table border=\"1\" class=\"dataframe\">\n",
       "  <thead>\n",
       "    <tr style=\"text-align: right;\">\n",
       "      <th></th>\n",
       "      <th>U-val</th>\n",
       "      <th>tail</th>\n",
       "      <th>p-val</th>\n",
       "      <th>RBC</th>\n",
       "      <th>CLES</th>\n",
       "    </tr>\n",
       "  </thead>\n",
       "  <tbody>\n",
       "    <tr>\n",
       "      <td>MWU</td>\n",
       "      <td>6231.5</td>\n",
       "      <td>two-sided</td>\n",
       "      <td>0.028769</td>\n",
       "      <td>0.162</td>\n",
       "      <td>0.558</td>\n",
       "    </tr>\n",
       "  </tbody>\n",
       "</table>\n",
       "</div>"
      ],
      "text/plain": [
       "      U-val       tail     p-val    RBC   CLES\n",
       "MWU  6231.5  two-sided  0.028769  0.162  0.558"
      ]
     },
     "metadata": {},
     "output_type": "display_data"
    },
    {
     "name": "stdout",
     "output_type": "stream",
     "text": [
      "----> the median is different\n",
      "\n",
      "Comparison of Correct between designers and non-designers, recognition task only\n",
      "Study 1\n"
     ]
    },
    {
     "data": {
      "text/html": [
       "<div>\n",
       "<style scoped>\n",
       "    .dataframe tbody tr th:only-of-type {\n",
       "        vertical-align: middle;\n",
       "    }\n",
       "\n",
       "    .dataframe tbody tr th {\n",
       "        vertical-align: top;\n",
       "    }\n",
       "\n",
       "    .dataframe thead th {\n",
       "        text-align: right;\n",
       "    }\n",
       "</style>\n",
       "<table border=\"1\" class=\"dataframe\">\n",
       "  <thead>\n",
       "    <tr style=\"text-align: right;\">\n",
       "      <th></th>\n",
       "      <th>U-val</th>\n",
       "      <th>tail</th>\n",
       "      <th>p-val</th>\n",
       "      <th>RBC</th>\n",
       "      <th>CLES</th>\n",
       "    </tr>\n",
       "  </thead>\n",
       "  <tbody>\n",
       "    <tr>\n",
       "      <td>MWU</td>\n",
       "      <td>4294.5</td>\n",
       "      <td>two-sided</td>\n",
       "      <td>0.333529</td>\n",
       "      <td>0.079</td>\n",
       "      <td>0.449</td>\n",
       "    </tr>\n",
       "  </tbody>\n",
       "</table>\n",
       "</div>"
      ],
      "text/plain": [
       "      U-val       tail     p-val    RBC   CLES\n",
       "MWU  4294.5  two-sided  0.333529  0.079  0.449"
      ]
     },
     "metadata": {},
     "output_type": "display_data"
    },
    {
     "name": "stdout",
     "output_type": "stream",
     "text": [
      "----> the median is the same\n",
      "\n",
      "Study 2\n"
     ]
    },
    {
     "data": {
      "text/html": [
       "<div>\n",
       "<style scoped>\n",
       "    .dataframe tbody tr th:only-of-type {\n",
       "        vertical-align: middle;\n",
       "    }\n",
       "\n",
       "    .dataframe tbody tr th {\n",
       "        vertical-align: top;\n",
       "    }\n",
       "\n",
       "    .dataframe thead th {\n",
       "        text-align: right;\n",
       "    }\n",
       "</style>\n",
       "<table border=\"1\" class=\"dataframe\">\n",
       "  <thead>\n",
       "    <tr style=\"text-align: right;\">\n",
       "      <th></th>\n",
       "      <th>U-val</th>\n",
       "      <th>tail</th>\n",
       "      <th>p-val</th>\n",
       "      <th>RBC</th>\n",
       "      <th>CLES</th>\n",
       "    </tr>\n",
       "  </thead>\n",
       "  <tbody>\n",
       "    <tr>\n",
       "      <td>MWU</td>\n",
       "      <td>6305.0</td>\n",
       "      <td>two-sided</td>\n",
       "      <td>0.037604</td>\n",
       "      <td>0.152</td>\n",
       "      <td>0.5</td>\n",
       "    </tr>\n",
       "  </tbody>\n",
       "</table>\n",
       "</div>"
      ],
      "text/plain": [
       "      U-val       tail     p-val    RBC  CLES\n",
       "MWU  6305.0  two-sided  0.037604  0.152   0.5"
      ]
     },
     "metadata": {},
     "output_type": "display_data"
    },
    {
     "name": "stdout",
     "output_type": "stream",
     "text": [
      "----> the median is different\n",
      "\n",
      "Comparison of JoM between designers and non-designers, recognition task only\n",
      "Study 1\n"
     ]
    },
    {
     "data": {
      "text/html": [
       "<div>\n",
       "<style scoped>\n",
       "    .dataframe tbody tr th:only-of-type {\n",
       "        vertical-align: middle;\n",
       "    }\n",
       "\n",
       "    .dataframe tbody tr th {\n",
       "        vertical-align: top;\n",
       "    }\n",
       "\n",
       "    .dataframe thead th {\n",
       "        text-align: right;\n",
       "    }\n",
       "</style>\n",
       "<table border=\"1\" class=\"dataframe\">\n",
       "  <thead>\n",
       "    <tr style=\"text-align: right;\">\n",
       "      <th></th>\n",
       "      <th>U-val</th>\n",
       "      <th>tail</th>\n",
       "      <th>p-val</th>\n",
       "      <th>RBC</th>\n",
       "      <th>CLES</th>\n",
       "    </tr>\n",
       "  </thead>\n",
       "  <tbody>\n",
       "    <tr>\n",
       "      <td>MWU</td>\n",
       "      <td>4843.5</td>\n",
       "      <td>two-sided</td>\n",
       "      <td>0.644073</td>\n",
       "      <td>-0.038</td>\n",
       "      <td>0.494</td>\n",
       "    </tr>\n",
       "  </tbody>\n",
       "</table>\n",
       "</div>"
      ],
      "text/plain": [
       "      U-val       tail     p-val    RBC   CLES\n",
       "MWU  4843.5  two-sided  0.644073 -0.038  0.494"
      ]
     },
     "metadata": {},
     "output_type": "display_data"
    },
    {
     "name": "stdout",
     "output_type": "stream",
     "text": [
      "----> the median is the same\n",
      "\n",
      "Study 2\n"
     ]
    },
    {
     "data": {
      "text/html": [
       "<div>\n",
       "<style scoped>\n",
       "    .dataframe tbody tr th:only-of-type {\n",
       "        vertical-align: middle;\n",
       "    }\n",
       "\n",
       "    .dataframe tbody tr th {\n",
       "        vertical-align: top;\n",
       "    }\n",
       "\n",
       "    .dataframe thead th {\n",
       "        text-align: right;\n",
       "    }\n",
       "</style>\n",
       "<table border=\"1\" class=\"dataframe\">\n",
       "  <thead>\n",
       "    <tr style=\"text-align: right;\">\n",
       "      <th></th>\n",
       "      <th>U-val</th>\n",
       "      <th>tail</th>\n",
       "      <th>p-val</th>\n",
       "      <th>RBC</th>\n",
       "      <th>CLES</th>\n",
       "    </tr>\n",
       "  </thead>\n",
       "  <tbody>\n",
       "    <tr>\n",
       "      <td>MWU</td>\n",
       "      <td>7974.5</td>\n",
       "      <td>two-sided</td>\n",
       "      <td>0.324447</td>\n",
       "      <td>-0.073</td>\n",
       "      <td>0.507</td>\n",
       "    </tr>\n",
       "  </tbody>\n",
       "</table>\n",
       "</div>"
      ],
      "text/plain": [
       "      U-val       tail     p-val    RBC   CLES\n",
       "MWU  7974.5  two-sided  0.324447 -0.073  0.507"
      ]
     },
     "metadata": {},
     "output_type": "display_data"
    },
    {
     "name": "stdout",
     "output_type": "stream",
     "text": [
      "----> the median is the same\n",
      "\n",
      "\n",
      "\n",
      "\n"
     ]
    },
    {
     "data": {
      "image/png": "[encoded data removed]",
      "text/plain": [
       "<Figure size 1080x1080 with 9 Axes>"
      ]
     },
     "metadata": {
      "needs_background": "light"
     },
     "output_type": "display_data"
    }
   ],
   "source": [
    "# Comparison between designers and non-designers in studies #1 and #2\n",
    "# using MWU\n",
    "\n",
    "metrics = [\"AUCnorm\", \"Correctnorm\", \"JoM\"]\n",
    "\n",
    "# set up plots\n",
    "fig, axes = plt.subplots(3, 3, figsize=(15, 15))\n",
    "plt.subplots_adjust(wspace=0.2, hspace=0.5)\n",
    "\n",
    "for i, ttype in enumerate([\"both\", \"lexical\", \"recognition\"]):\n",
    "    print(80 * \"-\")\n",
    "    for j, metric in enumerate(metrics):\n",
    "        metric_ = metric.replace(\"norm\", \"\")\n",
    "        if ttype == \"both\":\n",
    "            print(\"Comparison of %s between designers and non-designers, for both tasks\" % metric_)\n",
    "            title = \"Comparison of %s for both tasks\" % metric_\n",
    "            st = st_\n",
    "        else:\n",
    "            print(\"Comparison of %s between designers and non-designers, %s task only\" % (metric_, ttype))\n",
    "            title = \"Comparison of %s, %s task only\" % (metric_, ttype)\n",
    "            st = st_[st_[\"Type\"] == ttype]\n",
    "        means = pd.DataFrame(columns=[\"Designers\", \"Non-designers\"], index=[\"Study 1\", \"Study 2\"])\n",
    "        errors = pd.DataFrame(columns=[\"Designers\", \"Non-designers\"], index=[\"Study 1\", \"Study 2\"])\n",
    "        for sid in [1, 2]:\n",
    "            print(\"Study\", sid)\n",
    "            x = st[(st[\"isDesigner\"] == True) & (st[\"StudyID\"] == sid)]\n",
    "            y = st[(st[\"isDesigner\"] == False) & (st[\"StudyID\"] == sid)]\n",
    "            res = pg.mwu(x[metric], y[metric], tail=\"two-sided\")\n",
    "            display(res)\n",
    "            if res.loc[\"MWU\", \"p-val\"] > alpha:\n",
    "                print(\"----> the median is the same\")\n",
    "                print()\n",
    "            else:\n",
    "                print(\"----> the median is different\")\n",
    "                print()\n",
    "            # plot it\n",
    "            study_ = \"Study %s\" % sid\n",
    "            means[\"Designers\"][study_] = x[metric_].mean()\n",
    "            means[\"Non-designers\"][study_] = y[metric_].mean()\n",
    "            errors[\"Designers\"][study_] = x[metric_].sem()\n",
    "            errors[\"Non-designers\"][study_] = y[metric_].sem()\n",
    "        means.plot.bar(yerr=errors,\n",
    "                       capsize=4,\n",
    "                       ax=axes[i][j],\n",
    "                       grid=True,\n",
    "                       ylim=get_scale(metric_),\n",
    "                       rot=0,\n",
    "                       title=title)\n",
    "    print()\n",
    "    print()\n",
    "    print()"
   ]
  },
  {
   "cell_type": "markdown",
   "metadata": {},
   "source": [
    "# Comparison between designers and non-designers in studies #1 and #2 (first part only)"
   ]
  },
  {
   "cell_type": "code",
   "execution_count": 7,
   "metadata": {},
   "outputs": [
    {
     "name": "stdout",
     "output_type": "stream",
     "text": [
      "--------------------------------------------------------------------------------\n",
      "Comparison of AUC between designers and non-designers, for both tasks, first part only\n",
      "Study 1\n"
     ]
    },
    {
     "data": {
      "text/html": [
       "<div>\n",
       "<style scoped>\n",
       "    .dataframe tbody tr th:only-of-type {\n",
       "        vertical-align: middle;\n",
       "    }\n",
       "\n",
       "    .dataframe tbody tr th {\n",
       "        vertical-align: top;\n",
       "    }\n",
       "\n",
       "    .dataframe thead th {\n",
       "        text-align: right;\n",
       "    }\n",
       "</style>\n",
       "<table border=\"1\" class=\"dataframe\">\n",
       "  <thead>\n",
       "    <tr style=\"text-align: right;\">\n",
       "      <th></th>\n",
       "      <th>U-val</th>\n",
       "      <th>tail</th>\n",
       "      <th>p-val</th>\n",
       "      <th>RBC</th>\n",
       "      <th>CLES</th>\n",
       "    </tr>\n",
       "  </thead>\n",
       "  <tbody>\n",
       "    <tr>\n",
       "      <td>MWU</td>\n",
       "      <td>4523.5</td>\n",
       "      <td>two-sided</td>\n",
       "      <td>0.704031</td>\n",
       "      <td>0.03</td>\n",
       "      <td>0.397</td>\n",
       "    </tr>\n",
       "  </tbody>\n",
       "</table>\n",
       "</div>"
      ],
      "text/plain": [
       "      U-val       tail     p-val   RBC   CLES\n",
       "MWU  4523.5  two-sided  0.704031  0.03  0.397"
      ]
     },
     "metadata": {},
     "output_type": "display_data"
    },
    {
     "name": "stdout",
     "output_type": "stream",
     "text": [
      "----> the median is the same\n",
      "\n",
      "Study 2\n"
     ]
    },
    {
     "data": {
      "text/html": [
       "<div>\n",
       "<style scoped>\n",
       "    .dataframe tbody tr th:only-of-type {\n",
       "        vertical-align: middle;\n",
       "    }\n",
       "\n",
       "    .dataframe tbody tr th {\n",
       "        vertical-align: top;\n",
       "    }\n",
       "\n",
       "    .dataframe thead th {\n",
       "        text-align: right;\n",
       "    }\n",
       "</style>\n",
       "<table border=\"1\" class=\"dataframe\">\n",
       "  <thead>\n",
       "    <tr style=\"text-align: right;\">\n",
       "      <th></th>\n",
       "      <th>U-val</th>\n",
       "      <th>tail</th>\n",
       "      <th>p-val</th>\n",
       "      <th>RBC</th>\n",
       "      <th>CLES</th>\n",
       "    </tr>\n",
       "  </thead>\n",
       "  <tbody>\n",
       "    <tr>\n",
       "      <td>MWU</td>\n",
       "      <td>6201.5</td>\n",
       "      <td>two-sided</td>\n",
       "      <td>0.022586</td>\n",
       "      <td>0.166</td>\n",
       "      <td>0.522</td>\n",
       "    </tr>\n",
       "  </tbody>\n",
       "</table>\n",
       "</div>"
      ],
      "text/plain": [
       "      U-val       tail     p-val    RBC   CLES\n",
       "MWU  6201.5  two-sided  0.022586  0.166  0.522"
      ]
     },
     "metadata": {},
     "output_type": "display_data"
    },
    {
     "name": "stdout",
     "output_type": "stream",
     "text": [
      "----> the median is different\n",
      "\n",
      "Comparison of Correct between designers and non-designers, for both tasks, first part only\n",
      "Study 1\n"
     ]
    },
    {
     "data": {
      "text/html": [
       "<div>\n",
       "<style scoped>\n",
       "    .dataframe tbody tr th:only-of-type {\n",
       "        vertical-align: middle;\n",
       "    }\n",
       "\n",
       "    .dataframe tbody tr th {\n",
       "        vertical-align: top;\n",
       "    }\n",
       "\n",
       "    .dataframe thead th {\n",
       "        text-align: right;\n",
       "    }\n",
       "</style>\n",
       "<table border=\"1\" class=\"dataframe\">\n",
       "  <thead>\n",
       "    <tr style=\"text-align: right;\">\n",
       "      <th></th>\n",
       "      <th>U-val</th>\n",
       "      <th>tail</th>\n",
       "      <th>p-val</th>\n",
       "      <th>RBC</th>\n",
       "      <th>CLES</th>\n",
       "    </tr>\n",
       "  </thead>\n",
       "  <tbody>\n",
       "    <tr>\n",
       "      <td>MWU</td>\n",
       "      <td>3967.0</td>\n",
       "      <td>two-sided</td>\n",
       "      <td>0.070685</td>\n",
       "      <td>0.149</td>\n",
       "      <td>0.514</td>\n",
       "    </tr>\n",
       "  </tbody>\n",
       "</table>\n",
       "</div>"
      ],
      "text/plain": [
       "      U-val       tail     p-val    RBC   CLES\n",
       "MWU  3967.0  two-sided  0.070685  0.149  0.514"
      ]
     },
     "metadata": {},
     "output_type": "display_data"
    },
    {
     "name": "stdout",
     "output_type": "stream",
     "text": [
      "----> the median is the same\n",
      "\n",
      "Study 2\n"
     ]
    },
    {
     "data": {
      "text/html": [
       "<div>\n",
       "<style scoped>\n",
       "    .dataframe tbody tr th:only-of-type {\n",
       "        vertical-align: middle;\n",
       "    }\n",
       "\n",
       "    .dataframe tbody tr th {\n",
       "        vertical-align: top;\n",
       "    }\n",
       "\n",
       "    .dataframe thead th {\n",
       "        text-align: right;\n",
       "    }\n",
       "</style>\n",
       "<table border=\"1\" class=\"dataframe\">\n",
       "  <thead>\n",
       "    <tr style=\"text-align: right;\">\n",
       "      <th></th>\n",
       "      <th>U-val</th>\n",
       "      <th>tail</th>\n",
       "      <th>p-val</th>\n",
       "      <th>RBC</th>\n",
       "      <th>CLES</th>\n",
       "    </tr>\n",
       "  </thead>\n",
       "  <tbody>\n",
       "    <tr>\n",
       "      <td>MWU</td>\n",
       "      <td>5668.0</td>\n",
       "      <td>two-sided</td>\n",
       "      <td>0.001278</td>\n",
       "      <td>0.238</td>\n",
       "      <td>0.576</td>\n",
       "    </tr>\n",
       "  </tbody>\n",
       "</table>\n",
       "</div>"
      ],
      "text/plain": [
       "      U-val       tail     p-val    RBC   CLES\n",
       "MWU  5668.0  two-sided  0.001278  0.238  0.576"
      ]
     },
     "metadata": {},
     "output_type": "display_data"
    },
    {
     "name": "stdout",
     "output_type": "stream",
     "text": [
      "----> the median is different\n",
      "\n",
      "Comparison of JoM between designers and non-designers, for both tasks, first part only\n",
      "Study 1\n"
     ]
    },
    {
     "data": {
      "text/html": [
       "<div>\n",
       "<style scoped>\n",
       "    .dataframe tbody tr th:only-of-type {\n",
       "        vertical-align: middle;\n",
       "    }\n",
       "\n",
       "    .dataframe tbody tr th {\n",
       "        vertical-align: top;\n",
       "    }\n",
       "\n",
       "    .dataframe thead th {\n",
       "        text-align: right;\n",
       "    }\n",
       "</style>\n",
       "<table border=\"1\" class=\"dataframe\">\n",
       "  <thead>\n",
       "    <tr style=\"text-align: right;\">\n",
       "      <th></th>\n",
       "      <th>U-val</th>\n",
       "      <th>tail</th>\n",
       "      <th>p-val</th>\n",
       "      <th>RBC</th>\n",
       "      <th>CLES</th>\n",
       "    </tr>\n",
       "  </thead>\n",
       "  <tbody>\n",
       "    <tr>\n",
       "      <td>MWU</td>\n",
       "      <td>4816.0</td>\n",
       "      <td>two-sided</td>\n",
       "      <td>0.696174</td>\n",
       "      <td>-0.033</td>\n",
       "      <td>0.496</td>\n",
       "    </tr>\n",
       "  </tbody>\n",
       "</table>\n",
       "</div>"
      ],
      "text/plain": [
       "      U-val       tail     p-val    RBC   CLES\n",
       "MWU  4816.0  two-sided  0.696174 -0.033  0.496"
      ]
     },
     "metadata": {},
     "output_type": "display_data"
    },
    {
     "name": "stdout",
     "output_type": "stream",
     "text": [
      "----> the median is the same\n",
      "\n",
      "Study 2\n"
     ]
    },
    {
     "data": {
      "text/html": [
       "<div>\n",
       "<style scoped>\n",
       "    .dataframe tbody tr th:only-of-type {\n",
       "        vertical-align: middle;\n",
       "    }\n",
       "\n",
       "    .dataframe tbody tr th {\n",
       "        vertical-align: top;\n",
       "    }\n",
       "\n",
       "    .dataframe thead th {\n",
       "        text-align: right;\n",
       "    }\n",
       "</style>\n",
       "<table border=\"1\" class=\"dataframe\">\n",
       "  <thead>\n",
       "    <tr style=\"text-align: right;\">\n",
       "      <th></th>\n",
       "      <th>U-val</th>\n",
       "      <th>tail</th>\n",
       "      <th>p-val</th>\n",
       "      <th>RBC</th>\n",
       "      <th>CLES</th>\n",
       "    </tr>\n",
       "  </thead>\n",
       "  <tbody>\n",
       "    <tr>\n",
       "      <td>MWU</td>\n",
       "      <td>7974.5</td>\n",
       "      <td>two-sided</td>\n",
       "      <td>0.324447</td>\n",
       "      <td>-0.073</td>\n",
       "      <td>0.507</td>\n",
       "    </tr>\n",
       "  </tbody>\n",
       "</table>\n",
       "</div>"
      ],
      "text/plain": [
       "      U-val       tail     p-val    RBC   CLES\n",
       "MWU  7974.5  two-sided  0.324447 -0.073  0.507"
      ]
     },
     "metadata": {},
     "output_type": "display_data"
    },
    {
     "name": "stdout",
     "output_type": "stream",
     "text": [
      "----> the median is the same\n",
      "\n",
      "\n",
      "\n",
      "\n",
      "--------------------------------------------------------------------------------\n",
      "Comparison of AUC between designers and non-designers, lexical task only, first part only\n",
      "Study 1\n"
     ]
    },
    {
     "data": {
      "text/html": [
       "<div>\n",
       "<style scoped>\n",
       "    .dataframe tbody tr th:only-of-type {\n",
       "        vertical-align: middle;\n",
       "    }\n",
       "\n",
       "    .dataframe tbody tr th {\n",
       "        vertical-align: top;\n",
       "    }\n",
       "\n",
       "    .dataframe thead th {\n",
       "        text-align: right;\n",
       "    }\n",
       "</style>\n",
       "<table border=\"1\" class=\"dataframe\">\n",
       "  <thead>\n",
       "    <tr style=\"text-align: right;\">\n",
       "      <th></th>\n",
       "      <th>U-val</th>\n",
       "      <th>tail</th>\n",
       "      <th>p-val</th>\n",
       "      <th>RBC</th>\n",
       "      <th>CLES</th>\n",
       "    </tr>\n",
       "  </thead>\n",
       "  <tbody>\n",
       "    <tr>\n",
       "      <td>MWU</td>\n",
       "      <td>1053.0</td>\n",
       "      <td>two-sided</td>\n",
       "      <td>0.32397</td>\n",
       "      <td>0.097</td>\n",
       "      <td>0.307</td>\n",
       "    </tr>\n",
       "  </tbody>\n",
       "</table>\n",
       "</div>"
      ],
      "text/plain": [
       "      U-val       tail    p-val    RBC   CLES\n",
       "MWU  1053.0  two-sided  0.32397  0.097  0.307"
      ]
     },
     "metadata": {},
     "output_type": "display_data"
    },
    {
     "name": "stdout",
     "output_type": "stream",
     "text": [
      "----> the median is the same\n",
      "\n",
      "Study 2\n"
     ]
    },
    {
     "data": {
      "text/html": [
       "<div>\n",
       "<style scoped>\n",
       "    .dataframe tbody tr th:only-of-type {\n",
       "        vertical-align: middle;\n",
       "    }\n",
       "\n",
       "    .dataframe tbody tr th {\n",
       "        vertical-align: top;\n",
       "    }\n",
       "\n",
       "    .dataframe thead th {\n",
       "        text-align: right;\n",
       "    }\n",
       "</style>\n",
       "<table border=\"1\" class=\"dataframe\">\n",
       "  <thead>\n",
       "    <tr style=\"text-align: right;\">\n",
       "      <th></th>\n",
       "      <th>U-val</th>\n",
       "      <th>tail</th>\n",
       "      <th>p-val</th>\n",
       "      <th>RBC</th>\n",
       "      <th>CLES</th>\n",
       "    </tr>\n",
       "  </thead>\n",
       "  <tbody>\n",
       "    <tr>\n",
       "      <td>MWU</td>\n",
       "      <td>1437.5</td>\n",
       "      <td>two-sided</td>\n",
       "      <td>0.016062</td>\n",
       "      <td>0.227</td>\n",
       "      <td>0.436</td>\n",
       "    </tr>\n",
       "  </tbody>\n",
       "</table>\n",
       "</div>"
      ],
      "text/plain": [
       "      U-val       tail     p-val    RBC   CLES\n",
       "MWU  1437.5  two-sided  0.016062  0.227  0.436"
      ]
     },
     "metadata": {},
     "output_type": "display_data"
    },
    {
     "name": "stdout",
     "output_type": "stream",
     "text": [
      "----> the median is different\n",
      "\n",
      "Comparison of Correct between designers and non-designers, lexical task only, first part only\n",
      "Study 1\n"
     ]
    },
    {
     "data": {
      "text/html": [
       "<div>\n",
       "<style scoped>\n",
       "    .dataframe tbody tr th:only-of-type {\n",
       "        vertical-align: middle;\n",
       "    }\n",
       "\n",
       "    .dataframe tbody tr th {\n",
       "        vertical-align: top;\n",
       "    }\n",
       "\n",
       "    .dataframe thead th {\n",
       "        text-align: right;\n",
       "    }\n",
       "</style>\n",
       "<table border=\"1\" class=\"dataframe\">\n",
       "  <thead>\n",
       "    <tr style=\"text-align: right;\">\n",
       "      <th></th>\n",
       "      <th>U-val</th>\n",
       "      <th>tail</th>\n",
       "      <th>p-val</th>\n",
       "      <th>RBC</th>\n",
       "      <th>CLES</th>\n",
       "    </tr>\n",
       "  </thead>\n",
       "  <tbody>\n",
       "    <tr>\n",
       "      <td>MWU</td>\n",
       "      <td>911.5</td>\n",
       "      <td>two-sided</td>\n",
       "      <td>0.059754</td>\n",
       "      <td>0.218</td>\n",
       "      <td>0.517</td>\n",
       "    </tr>\n",
       "  </tbody>\n",
       "</table>\n",
       "</div>"
      ],
      "text/plain": [
       "     U-val       tail     p-val    RBC   CLES\n",
       "MWU  911.5  two-sided  0.059754  0.218  0.517"
      ]
     },
     "metadata": {},
     "output_type": "display_data"
    },
    {
     "name": "stdout",
     "output_type": "stream",
     "text": [
      "----> the median is the same\n",
      "\n",
      "Study 2\n"
     ]
    },
    {
     "data": {
      "text/html": [
       "<div>\n",
       "<style scoped>\n",
       "    .dataframe tbody tr th:only-of-type {\n",
       "        vertical-align: middle;\n",
       "    }\n",
       "\n",
       "    .dataframe tbody tr th {\n",
       "        vertical-align: top;\n",
       "    }\n",
       "\n",
       "    .dataframe thead th {\n",
       "        text-align: right;\n",
       "    }\n",
       "</style>\n",
       "<table border=\"1\" class=\"dataframe\">\n",
       "  <thead>\n",
       "    <tr style=\"text-align: right;\">\n",
       "      <th></th>\n",
       "      <th>U-val</th>\n",
       "      <th>tail</th>\n",
       "      <th>p-val</th>\n",
       "      <th>RBC</th>\n",
       "      <th>CLES</th>\n",
       "    </tr>\n",
       "  </thead>\n",
       "  <tbody>\n",
       "    <tr>\n",
       "      <td>MWU</td>\n",
       "      <td>1205.5</td>\n",
       "      <td>two-sided</td>\n",
       "      <td>0.000652</td>\n",
       "      <td>0.351</td>\n",
       "      <td>0.594</td>\n",
       "    </tr>\n",
       "  </tbody>\n",
       "</table>\n",
       "</div>"
      ],
      "text/plain": [
       "      U-val       tail     p-val    RBC   CLES\n",
       "MWU  1205.5  two-sided  0.000652  0.351  0.594"
      ]
     },
     "metadata": {},
     "output_type": "display_data"
    },
    {
     "name": "stdout",
     "output_type": "stream",
     "text": [
      "----> the median is different\n",
      "\n",
      "Comparison of JoM between designers and non-designers, lexical task only, first part only\n",
      "Study 1\n"
     ]
    },
    {
     "data": {
      "text/html": [
       "<div>\n",
       "<style scoped>\n",
       "    .dataframe tbody tr th:only-of-type {\n",
       "        vertical-align: middle;\n",
       "    }\n",
       "\n",
       "    .dataframe tbody tr th {\n",
       "        vertical-align: top;\n",
       "    }\n",
       "\n",
       "    .dataframe thead th {\n",
       "        text-align: right;\n",
       "    }\n",
       "</style>\n",
       "<table border=\"1\" class=\"dataframe\">\n",
       "  <thead>\n",
       "    <tr style=\"text-align: right;\">\n",
       "      <th></th>\n",
       "      <th>U-val</th>\n",
       "      <th>tail</th>\n",
       "      <th>p-val</th>\n",
       "      <th>RBC</th>\n",
       "      <th>CLES</th>\n",
       "    </tr>\n",
       "  </thead>\n",
       "  <tbody>\n",
       "    <tr>\n",
       "      <td>MWU</td>\n",
       "      <td>1204.0</td>\n",
       "      <td>two-sided</td>\n",
       "      <td>0.785103</td>\n",
       "      <td>-0.033</td>\n",
       "      <td>0.496</td>\n",
       "    </tr>\n",
       "  </tbody>\n",
       "</table>\n",
       "</div>"
      ],
      "text/plain": [
       "      U-val       tail     p-val    RBC   CLES\n",
       "MWU  1204.0  two-sided  0.785103 -0.033  0.496"
      ]
     },
     "metadata": {},
     "output_type": "display_data"
    },
    {
     "name": "stdout",
     "output_type": "stream",
     "text": [
      "----> the median is the same\n",
      "\n",
      "Study 2\n"
     ]
    },
    {
     "data": {
      "text/html": [
       "<div>\n",
       "<style scoped>\n",
       "    .dataframe tbody tr th:only-of-type {\n",
       "        vertical-align: middle;\n",
       "    }\n",
       "\n",
       "    .dataframe tbody tr th {\n",
       "        vertical-align: top;\n",
       "    }\n",
       "\n",
       "    .dataframe thead th {\n",
       "        text-align: right;\n",
       "    }\n",
       "</style>\n",
       "<table border=\"1\" class=\"dataframe\">\n",
       "  <thead>\n",
       "    <tr style=\"text-align: right;\">\n",
       "      <th></th>\n",
       "      <th>U-val</th>\n",
       "      <th>tail</th>\n",
       "      <th>p-val</th>\n",
       "      <th>RBC</th>\n",
       "      <th>CLES</th>\n",
       "    </tr>\n",
       "  </thead>\n",
       "  <tbody>\n",
       "    <tr>\n",
       "      <td>MWU</td>\n",
       "      <td>1883.0</td>\n",
       "      <td>two-sided</td>\n",
       "      <td>0.901784</td>\n",
       "      <td>-0.013</td>\n",
       "      <td>0.483</td>\n",
       "    </tr>\n",
       "  </tbody>\n",
       "</table>\n",
       "</div>"
      ],
      "text/plain": [
       "      U-val       tail     p-val    RBC   CLES\n",
       "MWU  1883.0  two-sided  0.901784 -0.013  0.483"
      ]
     },
     "metadata": {},
     "output_type": "display_data"
    },
    {
     "name": "stdout",
     "output_type": "stream",
     "text": [
      "----> the median is the same\n",
      "\n",
      "\n",
      "\n",
      "\n",
      "--------------------------------------------------------------------------------\n",
      "Comparison of AUC between designers and non-designers, recognition task only, first part only\n",
      "Study 1\n"
     ]
    },
    {
     "data": {
      "text/html": [
       "<div>\n",
       "<style scoped>\n",
       "    .dataframe tbody tr th:only-of-type {\n",
       "        vertical-align: middle;\n",
       "    }\n",
       "\n",
       "    .dataframe tbody tr th {\n",
       "        vertical-align: top;\n",
       "    }\n",
       "\n",
       "    .dataframe thead th {\n",
       "        text-align: right;\n",
       "    }\n",
       "</style>\n",
       "<table border=\"1\" class=\"dataframe\">\n",
       "  <thead>\n",
       "    <tr style=\"text-align: right;\">\n",
       "      <th></th>\n",
       "      <th>U-val</th>\n",
       "      <th>tail</th>\n",
       "      <th>p-val</th>\n",
       "      <th>RBC</th>\n",
       "      <th>CLES</th>\n",
       "    </tr>\n",
       "  </thead>\n",
       "  <tbody>\n",
       "    <tr>\n",
       "      <td>MWU</td>\n",
       "      <td>1148.5</td>\n",
       "      <td>two-sided</td>\n",
       "      <td>0.900903</td>\n",
       "      <td>0.015</td>\n",
       "      <td>0.455</td>\n",
       "    </tr>\n",
       "  </tbody>\n",
       "</table>\n",
       "</div>"
      ],
      "text/plain": [
       "      U-val       tail     p-val    RBC   CLES\n",
       "MWU  1148.5  two-sided  0.900903  0.015  0.455"
      ]
     },
     "metadata": {},
     "output_type": "display_data"
    },
    {
     "name": "stdout",
     "output_type": "stream",
     "text": [
      "----> the median is the same\n",
      "\n",
      "Study 2\n"
     ]
    },
    {
     "data": {
      "text/html": [
       "<div>\n",
       "<style scoped>\n",
       "    .dataframe tbody tr th:only-of-type {\n",
       "        vertical-align: middle;\n",
       "    }\n",
       "\n",
       "    .dataframe tbody tr th {\n",
       "        vertical-align: top;\n",
       "    }\n",
       "\n",
       "    .dataframe thead th {\n",
       "        text-align: right;\n",
       "    }\n",
       "</style>\n",
       "<table border=\"1\" class=\"dataframe\">\n",
       "  <thead>\n",
       "    <tr style=\"text-align: right;\">\n",
       "      <th></th>\n",
       "      <th>U-val</th>\n",
       "      <th>tail</th>\n",
       "      <th>p-val</th>\n",
       "      <th>RBC</th>\n",
       "      <th>CLES</th>\n",
       "    </tr>\n",
       "  </thead>\n",
       "  <tbody>\n",
       "    <tr>\n",
       "      <td>MWU</td>\n",
       "      <td>1571.5</td>\n",
       "      <td>two-sided</td>\n",
       "      <td>0.141701</td>\n",
       "      <td>0.154</td>\n",
       "      <td>0.561</td>\n",
       "    </tr>\n",
       "  </tbody>\n",
       "</table>\n",
       "</div>"
      ],
      "text/plain": [
       "      U-val       tail     p-val    RBC   CLES\n",
       "MWU  1571.5  two-sided  0.141701  0.154  0.561"
      ]
     },
     "metadata": {},
     "output_type": "display_data"
    },
    {
     "name": "stdout",
     "output_type": "stream",
     "text": [
      "----> the median is the same\n",
      "\n",
      "Comparison of Correct between designers and non-designers, recognition task only, first part only\n",
      "Study 1\n"
     ]
    },
    {
     "data": {
      "text/html": [
       "<div>\n",
       "<style scoped>\n",
       "    .dataframe tbody tr th:only-of-type {\n",
       "        vertical-align: middle;\n",
       "    }\n",
       "\n",
       "    .dataframe tbody tr th {\n",
       "        vertical-align: top;\n",
       "    }\n",
       "\n",
       "    .dataframe thead th {\n",
       "        text-align: right;\n",
       "    }\n",
       "</style>\n",
       "<table border=\"1\" class=\"dataframe\">\n",
       "  <thead>\n",
       "    <tr style=\"text-align: right;\">\n",
       "      <th></th>\n",
       "      <th>U-val</th>\n",
       "      <th>tail</th>\n",
       "      <th>p-val</th>\n",
       "      <th>RBC</th>\n",
       "      <th>CLES</th>\n",
       "    </tr>\n",
       "  </thead>\n",
       "  <tbody>\n",
       "    <tr>\n",
       "      <td>MWU</td>\n",
       "      <td>1070.5</td>\n",
       "      <td>two-sided</td>\n",
       "      <td>0.481388</td>\n",
       "      <td>0.082</td>\n",
       "      <td>0.447</td>\n",
       "    </tr>\n",
       "  </tbody>\n",
       "</table>\n",
       "</div>"
      ],
      "text/plain": [
       "      U-val       tail     p-val    RBC   CLES\n",
       "MWU  1070.5  two-sided  0.481388  0.082  0.447"
      ]
     },
     "metadata": {},
     "output_type": "display_data"
    },
    {
     "name": "stdout",
     "output_type": "stream",
     "text": [
      "----> the median is the same\n",
      "\n",
      "Study 2\n"
     ]
    },
    {
     "data": {
      "text/html": [
       "<div>\n",
       "<style scoped>\n",
       "    .dataframe tbody tr th:only-of-type {\n",
       "        vertical-align: middle;\n",
       "    }\n",
       "\n",
       "    .dataframe tbody tr th {\n",
       "        vertical-align: top;\n",
       "    }\n",
       "\n",
       "    .dataframe thead th {\n",
       "        text-align: right;\n",
       "    }\n",
       "</style>\n",
       "<table border=\"1\" class=\"dataframe\">\n",
       "  <thead>\n",
       "    <tr style=\"text-align: right;\">\n",
       "      <th></th>\n",
       "      <th>U-val</th>\n",
       "      <th>tail</th>\n",
       "      <th>p-val</th>\n",
       "      <th>RBC</th>\n",
       "      <th>CLES</th>\n",
       "    </tr>\n",
       "  </thead>\n",
       "  <tbody>\n",
       "    <tr>\n",
       "      <td>MWU</td>\n",
       "      <td>1610.0</td>\n",
       "      <td>two-sided</td>\n",
       "      <td>0.197859</td>\n",
       "      <td>0.134</td>\n",
       "      <td>0.497</td>\n",
       "    </tr>\n",
       "  </tbody>\n",
       "</table>\n",
       "</div>"
      ],
      "text/plain": [
       "      U-val       tail     p-val    RBC   CLES\n",
       "MWU  1610.0  two-sided  0.197859  0.134  0.497"
      ]
     },
     "metadata": {},
     "output_type": "display_data"
    },
    {
     "name": "stdout",
     "output_type": "stream",
     "text": [
      "----> the median is the same\n",
      "\n",
      "Comparison of JoM between designers and non-designers, recognition task only, first part only\n",
      "Study 1\n"
     ]
    },
    {
     "data": {
      "text/html": [
       "<div>\n",
       "<style scoped>\n",
       "    .dataframe tbody tr th:only-of-type {\n",
       "        vertical-align: middle;\n",
       "    }\n",
       "\n",
       "    .dataframe tbody tr th {\n",
       "        vertical-align: top;\n",
       "    }\n",
       "\n",
       "    .dataframe thead th {\n",
       "        text-align: right;\n",
       "    }\n",
       "</style>\n",
       "<table border=\"1\" class=\"dataframe\">\n",
       "  <thead>\n",
       "    <tr style=\"text-align: right;\">\n",
       "      <th></th>\n",
       "      <th>U-val</th>\n",
       "      <th>tail</th>\n",
       "      <th>p-val</th>\n",
       "      <th>RBC</th>\n",
       "      <th>CLES</th>\n",
       "    </tr>\n",
       "  </thead>\n",
       "  <tbody>\n",
       "    <tr>\n",
       "      <td>MWU</td>\n",
       "      <td>1204.0</td>\n",
       "      <td>two-sided</td>\n",
       "      <td>0.785103</td>\n",
       "      <td>-0.033</td>\n",
       "      <td>0.496</td>\n",
       "    </tr>\n",
       "  </tbody>\n",
       "</table>\n",
       "</div>"
      ],
      "text/plain": [
       "      U-val       tail     p-val    RBC   CLES\n",
       "MWU  1204.0  two-sided  0.785103 -0.033  0.496"
      ]
     },
     "metadata": {},
     "output_type": "display_data"
    },
    {
     "name": "stdout",
     "output_type": "stream",
     "text": [
      "----> the median is the same\n",
      "\n",
      "Study 2\n"
     ]
    },
    {
     "data": {
      "text/html": [
       "<div>\n",
       "<style scoped>\n",
       "    .dataframe tbody tr th:only-of-type {\n",
       "        vertical-align: middle;\n",
       "    }\n",
       "\n",
       "    .dataframe tbody tr th {\n",
       "        vertical-align: top;\n",
       "    }\n",
       "\n",
       "    .dataframe thead th {\n",
       "        text-align: right;\n",
       "    }\n",
       "</style>\n",
       "<table border=\"1\" class=\"dataframe\">\n",
       "  <thead>\n",
       "    <tr style=\"text-align: right;\">\n",
       "      <th></th>\n",
       "      <th>U-val</th>\n",
       "      <th>tail</th>\n",
       "      <th>p-val</th>\n",
       "      <th>RBC</th>\n",
       "      <th>CLES</th>\n",
       "    </tr>\n",
       "  </thead>\n",
       "  <tbody>\n",
       "    <tr>\n",
       "      <td>MWU</td>\n",
       "      <td>2126.5</td>\n",
       "      <td>two-sided</td>\n",
       "      <td>0.167282</td>\n",
       "      <td>-0.144</td>\n",
       "      <td>0.537</td>\n",
       "    </tr>\n",
       "  </tbody>\n",
       "</table>\n",
       "</div>"
      ],
      "text/plain": [
       "      U-val       tail     p-val    RBC   CLES\n",
       "MWU  2126.5  two-sided  0.167282 -0.144  0.537"
      ]
     },
     "metadata": {},
     "output_type": "display_data"
    },
    {
     "name": "stdout",
     "output_type": "stream",
     "text": [
      "----> the median is the same\n",
      "\n",
      "\n",
      "\n",
      "\n"
     ]
    },
    {
     "data": {
      "image/png": "[encoded data removed]",
      "text/plain": [
       "<Figure size 1080x1080 with 9 Axes>"
      ]
     },
     "metadata": {
      "needs_background": "light"
     },
     "output_type": "display_data"
    }
   ],
   "source": [
    "# Comparison between designers and non-designers in studies #1 and #2 (first part only)\n",
    "# using MWU\n",
    "\n",
    "metrics = [\"AUCnorm\", \"Correctnorm\", \"JoM\"]\n",
    "\n",
    "# set up plots\n",
    "fig, axes = plt.subplots(3, 3, figsize=(15, 15))\n",
    "plt.subplots_adjust(wspace=0.2, hspace=0.5)\n",
    "\n",
    "for i, ttype in enumerate([\"both\", \"lexical\", \"recognition\"]):\n",
    "    print(80 * \"-\")\n",
    "    for j, metric in enumerate(metrics):\n",
    "        metric_ = metric.replace(\"norm\", \"\")\n",
    "        if ttype == \"both\":\n",
    "            print(\"Comparison of %s between designers and non-designers, for both tasks, first part only\" % metric_)\n",
    "            title = \"Comparison of %s for both tasks\" % metric_\n",
    "            st = st_[st_[\"TestID\"] == 1]\n",
    "        else:\n",
    "            print(\"Comparison of %s between designers and non-designers, %s task only, first part only\" % (metric_, ttype))\n",
    "            title = \"Comparison of %s, %s task only\" % (metric_, ttype)\n",
    "            st = st_[(st_[\"TestID\"] == 1) & (st_[\"Type\"] == ttype)]\n",
    "        means = pd.DataFrame(columns=[\"Designers\", \"Non-designers\"], index=[\"Study 1\", \"Study 2\"])\n",
    "        errors = pd.DataFrame(columns=[\"Designers\", \"Non-designers\"], index=[\"Study 1\", \"Study 2\"])\n",
    "        for sid in [1, 2]:\n",
    "            print(\"Study\", sid)\n",
    "            x = st[(st[\"isDesigner\"] == True) & (st[\"StudyID\"] == sid)]\n",
    "            y = st[(st[\"isDesigner\"] == False) & (st[\"StudyID\"] == sid)]\n",
    "            res = pg.mwu(x[metric], y[metric], tail=\"two-sided\")\n",
    "            display(res)\n",
    "            if res.loc[\"MWU\", \"p-val\"] > alpha:\n",
    "                print(\"----> the median is the same\")\n",
    "                print()\n",
    "            else:\n",
    "                print(\"----> the median is different\")\n",
    "                print()\n",
    "            # plot it\n",
    "            study_ = \"Study %s\" % sid\n",
    "            means[\"Designers\"][study_] = x[metric_].mean()\n",
    "            means[\"Non-designers\"][study_] = y[metric_].mean()\n",
    "            errors[\"Designers\"][study_] = x[metric_].sem()\n",
    "            errors[\"Non-designers\"][study_] = y[metric_].sem()\n",
    "        means.plot.bar(yerr=errors,\n",
    "                       capsize=4,\n",
    "                       ax=axes[i][j],\n",
    "                       grid=True,\n",
    "                       ylim=get_scale(metric_),\n",
    "                       rot=0,\n",
    "                       title=title)\n",
    "    print()\n",
    "    print()\n",
    "    print()"
   ]
  },
  {
   "cell_type": "markdown",
   "metadata": {},
   "source": [
    "# Comparison between designers and non-designers in studies #1 and #2 (second part only)"
   ]
  },
  {
   "cell_type": "code",
   "execution_count": 8,
   "metadata": {},
   "outputs": [
    {
     "name": "stdout",
     "output_type": "stream",
     "text": [
      "--------------------------------------------------------------------------------\n",
      "Comparison of AUC between designers and non-designers, for both tasks, first part only\n",
      "Study 1\n"
     ]
    },
    {
     "data": {
      "text/html": [
       "<div>\n",
       "<style scoped>\n",
       "    .dataframe tbody tr th:only-of-type {\n",
       "        vertical-align: middle;\n",
       "    }\n",
       "\n",
       "    .dataframe tbody tr th {\n",
       "        vertical-align: top;\n",
       "    }\n",
       "\n",
       "    .dataframe thead th {\n",
       "        text-align: right;\n",
       "    }\n",
       "</style>\n",
       "<table border=\"1\" class=\"dataframe\">\n",
       "  <thead>\n",
       "    <tr style=\"text-align: right;\">\n",
       "      <th></th>\n",
       "      <th>U-val</th>\n",
       "      <th>tail</th>\n",
       "      <th>p-val</th>\n",
       "      <th>RBC</th>\n",
       "      <th>CLES</th>\n",
       "    </tr>\n",
       "  </thead>\n",
       "  <tbody>\n",
       "    <tr>\n",
       "      <td>MWU</td>\n",
       "      <td>4517.0</td>\n",
       "      <td>two-sided</td>\n",
       "      <td>0.694098</td>\n",
       "      <td>0.032</td>\n",
       "      <td>0.414</td>\n",
       "    </tr>\n",
       "  </tbody>\n",
       "</table>\n",
       "</div>"
      ],
      "text/plain": [
       "      U-val       tail     p-val    RBC   CLES\n",
       "MWU  4517.0  two-sided  0.694098  0.032  0.414"
      ]
     },
     "metadata": {},
     "output_type": "display_data"
    },
    {
     "name": "stdout",
     "output_type": "stream",
     "text": [
      "----> the median is the same\n",
      "\n",
      "Study 2\n"
     ]
    },
    {
     "data": {
      "text/html": [
       "<div>\n",
       "<style scoped>\n",
       "    .dataframe tbody tr th:only-of-type {\n",
       "        vertical-align: middle;\n",
       "    }\n",
       "\n",
       "    .dataframe tbody tr th {\n",
       "        vertical-align: top;\n",
       "    }\n",
       "\n",
       "    .dataframe thead th {\n",
       "        text-align: right;\n",
       "    }\n",
       "</style>\n",
       "<table border=\"1\" class=\"dataframe\">\n",
       "  <thead>\n",
       "    <tr style=\"text-align: right;\">\n",
       "      <th></th>\n",
       "      <th>U-val</th>\n",
       "      <th>tail</th>\n",
       "      <th>p-val</th>\n",
       "      <th>RBC</th>\n",
       "      <th>CLES</th>\n",
       "    </tr>\n",
       "  </thead>\n",
       "  <tbody>\n",
       "    <tr>\n",
       "      <td>MWU</td>\n",
       "      <td>6085.5</td>\n",
       "      <td>two-sided</td>\n",
       "      <td>0.011471</td>\n",
       "      <td>0.181</td>\n",
       "      <td>0.506</td>\n",
       "    </tr>\n",
       "  </tbody>\n",
       "</table>\n",
       "</div>"
      ],
      "text/plain": [
       "      U-val       tail     p-val    RBC   CLES\n",
       "MWU  6085.5  two-sided  0.011471  0.181  0.506"
      ]
     },
     "metadata": {},
     "output_type": "display_data"
    },
    {
     "name": "stdout",
     "output_type": "stream",
     "text": [
      "----> the median is different\n",
      "\n",
      "Comparison of Correct between designers and non-designers, for both tasks, first part only\n",
      "Study 1\n"
     ]
    },
    {
     "data": {
      "text/html": [
       "<div>\n",
       "<style scoped>\n",
       "    .dataframe tbody tr th:only-of-type {\n",
       "        vertical-align: middle;\n",
       "    }\n",
       "\n",
       "    .dataframe tbody tr th {\n",
       "        vertical-align: top;\n",
       "    }\n",
       "\n",
       "    .dataframe thead th {\n",
       "        text-align: right;\n",
       "    }\n",
       "</style>\n",
       "<table border=\"1\" class=\"dataframe\">\n",
       "  <thead>\n",
       "    <tr style=\"text-align: right;\">\n",
       "      <th></th>\n",
       "      <th>U-val</th>\n",
       "      <th>tail</th>\n",
       "      <th>p-val</th>\n",
       "      <th>RBC</th>\n",
       "      <th>CLES</th>\n",
       "    </tr>\n",
       "  </thead>\n",
       "  <tbody>\n",
       "    <tr>\n",
       "      <td>MWU</td>\n",
       "      <td>4108.0</td>\n",
       "      <td>two-sided</td>\n",
       "      <td>0.148044</td>\n",
       "      <td>0.119</td>\n",
       "      <td>0.493</td>\n",
       "    </tr>\n",
       "  </tbody>\n",
       "</table>\n",
       "</div>"
      ],
      "text/plain": [
       "      U-val       tail     p-val    RBC   CLES\n",
       "MWU  4108.0  two-sided  0.148044  0.119  0.493"
      ]
     },
     "metadata": {},
     "output_type": "display_data"
    },
    {
     "name": "stdout",
     "output_type": "stream",
     "text": [
      "----> the median is the same\n",
      "\n",
      "Study 2\n"
     ]
    },
    {
     "data": {
      "text/html": [
       "<div>\n",
       "<style scoped>\n",
       "    .dataframe tbody tr th:only-of-type {\n",
       "        vertical-align: middle;\n",
       "    }\n",
       "\n",
       "    .dataframe tbody tr th {\n",
       "        vertical-align: top;\n",
       "    }\n",
       "\n",
       "    .dataframe thead th {\n",
       "        text-align: right;\n",
       "    }\n",
       "</style>\n",
       "<table border=\"1\" class=\"dataframe\">\n",
       "  <thead>\n",
       "    <tr style=\"text-align: right;\">\n",
       "      <th></th>\n",
       "      <th>U-val</th>\n",
       "      <th>tail</th>\n",
       "      <th>p-val</th>\n",
       "      <th>RBC</th>\n",
       "      <th>CLES</th>\n",
       "    </tr>\n",
       "  </thead>\n",
       "  <tbody>\n",
       "    <tr>\n",
       "      <td>MWU</td>\n",
       "      <td>5286.0</td>\n",
       "      <td>two-sided</td>\n",
       "      <td>0.000083</td>\n",
       "      <td>0.289</td>\n",
       "      <td>0.589</td>\n",
       "    </tr>\n",
       "  </tbody>\n",
       "</table>\n",
       "</div>"
      ],
      "text/plain": [
       "      U-val       tail     p-val    RBC   CLES\n",
       "MWU  5286.0  two-sided  0.000083  0.289  0.589"
      ]
     },
     "metadata": {},
     "output_type": "display_data"
    },
    {
     "name": "stdout",
     "output_type": "stream",
     "text": [
      "----> the median is different\n",
      "\n",
      "Comparison of JoM between designers and non-designers, for both tasks, first part only\n",
      "Study 1\n"
     ]
    },
    {
     "data": {
      "text/html": [
       "<div>\n",
       "<style scoped>\n",
       "    .dataframe tbody tr th:only-of-type {\n",
       "        vertical-align: middle;\n",
       "    }\n",
       "\n",
       "    .dataframe tbody tr th {\n",
       "        vertical-align: top;\n",
       "    }\n",
       "\n",
       "    .dataframe thead th {\n",
       "        text-align: right;\n",
       "    }\n",
       "</style>\n",
       "<table border=\"1\" class=\"dataframe\">\n",
       "  <thead>\n",
       "    <tr style=\"text-align: right;\">\n",
       "      <th></th>\n",
       "      <th>U-val</th>\n",
       "      <th>tail</th>\n",
       "      <th>p-val</th>\n",
       "      <th>RBC</th>\n",
       "      <th>CLES</th>\n",
       "    </tr>\n",
       "  </thead>\n",
       "  <tbody>\n",
       "    <tr>\n",
       "      <td>MWU</td>\n",
       "      <td>4872.0</td>\n",
       "      <td>two-sided</td>\n",
       "      <td>0.591499</td>\n",
       "      <td>-0.045</td>\n",
       "      <td>0.491</td>\n",
       "    </tr>\n",
       "  </tbody>\n",
       "</table>\n",
       "</div>"
      ],
      "text/plain": [
       "      U-val       tail     p-val    RBC   CLES\n",
       "MWU  4872.0  two-sided  0.591499 -0.045  0.491"
      ]
     },
     "metadata": {},
     "output_type": "display_data"
    },
    {
     "name": "stdout",
     "output_type": "stream",
     "text": [
      "----> the median is the same\n",
      "\n",
      "Study 2\n"
     ]
    },
    {
     "data": {
      "text/html": [
       "<div>\n",
       "<style scoped>\n",
       "    .dataframe tbody tr th:only-of-type {\n",
       "        vertical-align: middle;\n",
       "    }\n",
       "\n",
       "    .dataframe tbody tr th {\n",
       "        vertical-align: top;\n",
       "    }\n",
       "\n",
       "    .dataframe thead th {\n",
       "        text-align: right;\n",
       "    }\n",
       "</style>\n",
       "<table border=\"1\" class=\"dataframe\">\n",
       "  <thead>\n",
       "    <tr style=\"text-align: right;\">\n",
       "      <th></th>\n",
       "      <th>U-val</th>\n",
       "      <th>tail</th>\n",
       "      <th>p-val</th>\n",
       "      <th>RBC</th>\n",
       "      <th>CLES</th>\n",
       "    </tr>\n",
       "  </thead>\n",
       "  <tbody>\n",
       "    <tr>\n",
       "      <td>MWU</td>\n",
       "      <td>7974.5</td>\n",
       "      <td>two-sided</td>\n",
       "      <td>0.324447</td>\n",
       "      <td>-0.073</td>\n",
       "      <td>0.507</td>\n",
       "    </tr>\n",
       "  </tbody>\n",
       "</table>\n",
       "</div>"
      ],
      "text/plain": [
       "      U-val       tail     p-val    RBC   CLES\n",
       "MWU  7974.5  two-sided  0.324447 -0.073  0.507"
      ]
     },
     "metadata": {},
     "output_type": "display_data"
    },
    {
     "name": "stdout",
     "output_type": "stream",
     "text": [
      "----> the median is the same\n",
      "\n",
      "\n",
      "\n",
      "\n",
      "--------------------------------------------------------------------------------\n",
      "Comparison of AUC between designers and non-designers, lexical task only, first part only\n",
      "Study 1\n"
     ]
    },
    {
     "data": {
      "text/html": [
       "<div>\n",
       "<style scoped>\n",
       "    .dataframe tbody tr th:only-of-type {\n",
       "        vertical-align: middle;\n",
       "    }\n",
       "\n",
       "    .dataframe tbody tr th {\n",
       "        vertical-align: top;\n",
       "    }\n",
       "\n",
       "    .dataframe thead th {\n",
       "        text-align: right;\n",
       "    }\n",
       "</style>\n",
       "<table border=\"1\" class=\"dataframe\">\n",
       "  <thead>\n",
       "    <tr style=\"text-align: right;\">\n",
       "      <th></th>\n",
       "      <th>U-val</th>\n",
       "      <th>tail</th>\n",
       "      <th>p-val</th>\n",
       "      <th>RBC</th>\n",
       "      <th>CLES</th>\n",
       "    </tr>\n",
       "  </thead>\n",
       "  <tbody>\n",
       "    <tr>\n",
       "      <td>MWU</td>\n",
       "      <td>1191.5</td>\n",
       "      <td>two-sided</td>\n",
       "      <td>0.82824</td>\n",
       "      <td>-0.022</td>\n",
       "      <td>0.277</td>\n",
       "    </tr>\n",
       "  </tbody>\n",
       "</table>\n",
       "</div>"
      ],
      "text/plain": [
       "      U-val       tail    p-val    RBC   CLES\n",
       "MWU  1191.5  two-sided  0.82824 -0.022  0.277"
      ]
     },
     "metadata": {},
     "output_type": "display_data"
    },
    {
     "name": "stdout",
     "output_type": "stream",
     "text": [
      "----> the median is the same\n",
      "\n",
      "Study 2\n"
     ]
    },
    {
     "data": {
      "text/html": [
       "<div>\n",
       "<style scoped>\n",
       "    .dataframe tbody tr th:only-of-type {\n",
       "        vertical-align: middle;\n",
       "    }\n",
       "\n",
       "    .dataframe tbody tr th {\n",
       "        vertical-align: top;\n",
       "    }\n",
       "\n",
       "    .dataframe thead th {\n",
       "        text-align: right;\n",
       "    }\n",
       "</style>\n",
       "<table border=\"1\" class=\"dataframe\">\n",
       "  <thead>\n",
       "    <tr style=\"text-align: right;\">\n",
       "      <th></th>\n",
       "      <th>U-val</th>\n",
       "      <th>tail</th>\n",
       "      <th>p-val</th>\n",
       "      <th>RBC</th>\n",
       "      <th>CLES</th>\n",
       "    </tr>\n",
       "  </thead>\n",
       "  <tbody>\n",
       "    <tr>\n",
       "      <td>MWU</td>\n",
       "      <td>1447.0</td>\n",
       "      <td>two-sided</td>\n",
       "      <td>0.018015</td>\n",
       "      <td>0.221</td>\n",
       "      <td>0.428</td>\n",
       "    </tr>\n",
       "  </tbody>\n",
       "</table>\n",
       "</div>"
      ],
      "text/plain": [
       "      U-val       tail     p-val    RBC   CLES\n",
       "MWU  1447.0  two-sided  0.018015  0.221  0.428"
      ]
     },
     "metadata": {},
     "output_type": "display_data"
    },
    {
     "name": "stdout",
     "output_type": "stream",
     "text": [
      "----> the median is different\n",
      "\n",
      "Comparison of Correct between designers and non-designers, lexical task only, first part only\n",
      "Study 1\n"
     ]
    },
    {
     "data": {
      "text/html": [
       "<div>\n",
       "<style scoped>\n",
       "    .dataframe tbody tr th:only-of-type {\n",
       "        vertical-align: middle;\n",
       "    }\n",
       "\n",
       "    .dataframe tbody tr th {\n",
       "        vertical-align: top;\n",
       "    }\n",
       "\n",
       "    .dataframe thead th {\n",
       "        text-align: right;\n",
       "    }\n",
       "</style>\n",
       "<table border=\"1\" class=\"dataframe\">\n",
       "  <thead>\n",
       "    <tr style=\"text-align: right;\">\n",
       "      <th></th>\n",
       "      <th>U-val</th>\n",
       "      <th>tail</th>\n",
       "      <th>p-val</th>\n",
       "      <th>RBC</th>\n",
       "      <th>CLES</th>\n",
       "    </tr>\n",
       "  </thead>\n",
       "  <tbody>\n",
       "    <tr>\n",
       "      <td>MWU</td>\n",
       "      <td>938.0</td>\n",
       "      <td>two-sided</td>\n",
       "      <td>0.082858</td>\n",
       "      <td>0.196</td>\n",
       "      <td>0.472</td>\n",
       "    </tr>\n",
       "  </tbody>\n",
       "</table>\n",
       "</div>"
      ],
      "text/plain": [
       "     U-val       tail     p-val    RBC   CLES\n",
       "MWU  938.0  two-sided  0.082858  0.196  0.472"
      ]
     },
     "metadata": {},
     "output_type": "display_data"
    },
    {
     "name": "stdout",
     "output_type": "stream",
     "text": [
      "----> the median is the same\n",
      "\n",
      "Study 2\n"
     ]
    },
    {
     "data": {
      "text/html": [
       "<div>\n",
       "<style scoped>\n",
       "    .dataframe tbody tr th:only-of-type {\n",
       "        vertical-align: middle;\n",
       "    }\n",
       "\n",
       "    .dataframe tbody tr th {\n",
       "        vertical-align: top;\n",
       "    }\n",
       "\n",
       "    .dataframe thead th {\n",
       "        text-align: right;\n",
       "    }\n",
       "</style>\n",
       "<table border=\"1\" class=\"dataframe\">\n",
       "  <thead>\n",
       "    <tr style=\"text-align: right;\">\n",
       "      <th></th>\n",
       "      <th>U-val</th>\n",
       "      <th>tail</th>\n",
       "      <th>p-val</th>\n",
       "      <th>RBC</th>\n",
       "      <th>CLES</th>\n",
       "    </tr>\n",
       "  </thead>\n",
       "  <tbody>\n",
       "    <tr>\n",
       "      <td>MWU</td>\n",
       "      <td>1109.5</td>\n",
       "      <td>two-sided</td>\n",
       "      <td>0.000085</td>\n",
       "      <td>0.403</td>\n",
       "      <td>0.615</td>\n",
       "    </tr>\n",
       "  </tbody>\n",
       "</table>\n",
       "</div>"
      ],
      "text/plain": [
       "      U-val       tail     p-val    RBC   CLES\n",
       "MWU  1109.5  two-sided  0.000085  0.403  0.615"
      ]
     },
     "metadata": {},
     "output_type": "display_data"
    },
    {
     "name": "stdout",
     "output_type": "stream",
     "text": [
      "----> the median is different\n",
      "\n",
      "Comparison of JoM between designers and non-designers, lexical task only, first part only\n",
      "Study 1\n"
     ]
    },
    {
     "data": {
      "text/html": [
       "<div>\n",
       "<style scoped>\n",
       "    .dataframe tbody tr th:only-of-type {\n",
       "        vertical-align: middle;\n",
       "    }\n",
       "\n",
       "    .dataframe tbody tr th {\n",
       "        vertical-align: top;\n",
       "    }\n",
       "\n",
       "    .dataframe thead th {\n",
       "        text-align: right;\n",
       "    }\n",
       "</style>\n",
       "<table border=\"1\" class=\"dataframe\">\n",
       "  <thead>\n",
       "    <tr style=\"text-align: right;\">\n",
       "      <th></th>\n",
       "      <th>U-val</th>\n",
       "      <th>tail</th>\n",
       "      <th>p-val</th>\n",
       "      <th>RBC</th>\n",
       "      <th>CLES</th>\n",
       "    </tr>\n",
       "  </thead>\n",
       "  <tbody>\n",
       "    <tr>\n",
       "      <td>MWU</td>\n",
       "      <td>1218.0</td>\n",
       "      <td>two-sided</td>\n",
       "      <td>0.707096</td>\n",
       "      <td>-0.045</td>\n",
       "      <td>0.491</td>\n",
       "    </tr>\n",
       "  </tbody>\n",
       "</table>\n",
       "</div>"
      ],
      "text/plain": [
       "      U-val       tail     p-val    RBC   CLES\n",
       "MWU  1218.0  two-sided  0.707096 -0.045  0.491"
      ]
     },
     "metadata": {},
     "output_type": "display_data"
    },
    {
     "name": "stdout",
     "output_type": "stream",
     "text": [
      "----> the median is the same\n",
      "\n",
      "Study 2\n"
     ]
    },
    {
     "data": {
      "text/html": [
       "<div>\n",
       "<style scoped>\n",
       "    .dataframe tbody tr th:only-of-type {\n",
       "        vertical-align: middle;\n",
       "    }\n",
       "\n",
       "    .dataframe tbody tr th {\n",
       "        vertical-align: top;\n",
       "    }\n",
       "\n",
       "    .dataframe thead th {\n",
       "        text-align: right;\n",
       "    }\n",
       "</style>\n",
       "<table border=\"1\" class=\"dataframe\">\n",
       "  <thead>\n",
       "    <tr style=\"text-align: right;\">\n",
       "      <th></th>\n",
       "      <th>U-val</th>\n",
       "      <th>tail</th>\n",
       "      <th>p-val</th>\n",
       "      <th>RBC</th>\n",
       "      <th>CLES</th>\n",
       "    </tr>\n",
       "  </thead>\n",
       "  <tbody>\n",
       "    <tr>\n",
       "      <td>MWU</td>\n",
       "      <td>2126.5</td>\n",
       "      <td>two-sided</td>\n",
       "      <td>0.167282</td>\n",
       "      <td>-0.144</td>\n",
       "      <td>0.537</td>\n",
       "    </tr>\n",
       "  </tbody>\n",
       "</table>\n",
       "</div>"
      ],
      "text/plain": [
       "      U-val       tail     p-val    RBC   CLES\n",
       "MWU  2126.5  two-sided  0.167282 -0.144  0.537"
      ]
     },
     "metadata": {},
     "output_type": "display_data"
    },
    {
     "name": "stdout",
     "output_type": "stream",
     "text": [
      "----> the median is the same\n",
      "\n",
      "\n",
      "\n",
      "\n",
      "--------------------------------------------------------------------------------\n",
      "Comparison of AUC between designers and non-designers, recognition task only, first part only\n",
      "Study 1\n"
     ]
    },
    {
     "data": {
      "text/html": [
       "<div>\n",
       "<style scoped>\n",
       "    .dataframe tbody tr th:only-of-type {\n",
       "        vertical-align: middle;\n",
       "    }\n",
       "\n",
       "    .dataframe tbody tr th {\n",
       "        vertical-align: top;\n",
       "    }\n",
       "\n",
       "    .dataframe thead th {\n",
       "        text-align: right;\n",
       "    }\n",
       "</style>\n",
       "<table border=\"1\" class=\"dataframe\">\n",
       "  <thead>\n",
       "    <tr style=\"text-align: right;\">\n",
       "      <th></th>\n",
       "      <th>U-val</th>\n",
       "      <th>tail</th>\n",
       "      <th>p-val</th>\n",
       "      <th>RBC</th>\n",
       "      <th>CLES</th>\n",
       "    </tr>\n",
       "  </thead>\n",
       "  <tbody>\n",
       "    <tr>\n",
       "      <td>MWU</td>\n",
       "      <td>1047.5</td>\n",
       "      <td>two-sided</td>\n",
       "      <td>0.389845</td>\n",
       "      <td>0.102</td>\n",
       "      <td>0.519</td>\n",
       "    </tr>\n",
       "  </tbody>\n",
       "</table>\n",
       "</div>"
      ],
      "text/plain": [
       "      U-val       tail     p-val    RBC   CLES\n",
       "MWU  1047.5  two-sided  0.389845  0.102  0.519"
      ]
     },
     "metadata": {},
     "output_type": "display_data"
    },
    {
     "name": "stdout",
     "output_type": "stream",
     "text": [
      "----> the median is the same\n",
      "\n",
      "Study 2\n"
     ]
    },
    {
     "data": {
      "text/html": [
       "<div>\n",
       "<style scoped>\n",
       "    .dataframe tbody tr th:only-of-type {\n",
       "        vertical-align: middle;\n",
       "    }\n",
       "\n",
       "    .dataframe tbody tr th {\n",
       "        vertical-align: top;\n",
       "    }\n",
       "\n",
       "    .dataframe thead th {\n",
       "        text-align: right;\n",
       "    }\n",
       "</style>\n",
       "<table border=\"1\" class=\"dataframe\">\n",
       "  <thead>\n",
       "    <tr style=\"text-align: right;\">\n",
       "      <th></th>\n",
       "      <th>U-val</th>\n",
       "      <th>tail</th>\n",
       "      <th>p-val</th>\n",
       "      <th>RBC</th>\n",
       "      <th>CLES</th>\n",
       "    </tr>\n",
       "  </thead>\n",
       "  <tbody>\n",
       "    <tr>\n",
       "      <td>MWU</td>\n",
       "      <td>1577.0</td>\n",
       "      <td>two-sided</td>\n",
       "      <td>0.147776</td>\n",
       "      <td>0.151</td>\n",
       "      <td>0.54</td>\n",
       "    </tr>\n",
       "  </tbody>\n",
       "</table>\n",
       "</div>"
      ],
      "text/plain": [
       "      U-val       tail     p-val    RBC  CLES\n",
       "MWU  1577.0  two-sided  0.147776  0.151  0.54"
      ]
     },
     "metadata": {},
     "output_type": "display_data"
    },
    {
     "name": "stdout",
     "output_type": "stream",
     "text": [
      "----> the median is the same\n",
      "\n",
      "Comparison of Correct between designers and non-designers, recognition task only, first part only\n",
      "Study 1\n"
     ]
    },
    {
     "data": {
      "text/html": [
       "<div>\n",
       "<style scoped>\n",
       "    .dataframe tbody tr th:only-of-type {\n",
       "        vertical-align: middle;\n",
       "    }\n",
       "\n",
       "    .dataframe tbody tr th {\n",
       "        vertical-align: top;\n",
       "    }\n",
       "\n",
       "    .dataframe thead th {\n",
       "        text-align: right;\n",
       "    }\n",
       "</style>\n",
       "<table border=\"1\" class=\"dataframe\">\n",
       "  <thead>\n",
       "    <tr style=\"text-align: right;\">\n",
       "      <th></th>\n",
       "      <th>U-val</th>\n",
       "      <th>tail</th>\n",
       "      <th>p-val</th>\n",
       "      <th>RBC</th>\n",
       "      <th>CLES</th>\n",
       "    </tr>\n",
       "  </thead>\n",
       "  <tbody>\n",
       "    <tr>\n",
       "      <td>MWU</td>\n",
       "      <td>1049.5</td>\n",
       "      <td>two-sided</td>\n",
       "      <td>0.390451</td>\n",
       "      <td>0.1</td>\n",
       "      <td>0.461</td>\n",
       "    </tr>\n",
       "  </tbody>\n",
       "</table>\n",
       "</div>"
      ],
      "text/plain": [
       "      U-val       tail     p-val  RBC   CLES\n",
       "MWU  1049.5  two-sided  0.390451  0.1  0.461"
      ]
     },
     "metadata": {},
     "output_type": "display_data"
    },
    {
     "name": "stdout",
     "output_type": "stream",
     "text": [
      "----> the median is the same\n",
      "\n",
      "Study 2\n"
     ]
    },
    {
     "data": {
      "text/html": [
       "<div>\n",
       "<style scoped>\n",
       "    .dataframe tbody tr th:only-of-type {\n",
       "        vertical-align: middle;\n",
       "    }\n",
       "\n",
       "    .dataframe tbody tr th {\n",
       "        vertical-align: top;\n",
       "    }\n",
       "\n",
       "    .dataframe thead th {\n",
       "        text-align: right;\n",
       "    }\n",
       "</style>\n",
       "<table border=\"1\" class=\"dataframe\">\n",
       "  <thead>\n",
       "    <tr style=\"text-align: right;\">\n",
       "      <th></th>\n",
       "      <th>U-val</th>\n",
       "      <th>tail</th>\n",
       "      <th>p-val</th>\n",
       "      <th>RBC</th>\n",
       "      <th>CLES</th>\n",
       "    </tr>\n",
       "  </thead>\n",
       "  <tbody>\n",
       "    <tr>\n",
       "      <td>MWU</td>\n",
       "      <td>1541.0</td>\n",
       "      <td>two-sided</td>\n",
       "      <td>0.097477</td>\n",
       "      <td>0.171</td>\n",
       "      <td>0.499</td>\n",
       "    </tr>\n",
       "  </tbody>\n",
       "</table>\n",
       "</div>"
      ],
      "text/plain": [
       "      U-val       tail     p-val    RBC   CLES\n",
       "MWU  1541.0  two-sided  0.097477  0.171  0.499"
      ]
     },
     "metadata": {},
     "output_type": "display_data"
    },
    {
     "name": "stdout",
     "output_type": "stream",
     "text": [
      "----> the median is the same\n",
      "\n",
      "Comparison of JoM between designers and non-designers, recognition task only, first part only\n",
      "Study 1\n"
     ]
    },
    {
     "data": {
      "text/html": [
       "<div>\n",
       "<style scoped>\n",
       "    .dataframe tbody tr th:only-of-type {\n",
       "        vertical-align: middle;\n",
       "    }\n",
       "\n",
       "    .dataframe tbody tr th {\n",
       "        vertical-align: top;\n",
       "    }\n",
       "\n",
       "    .dataframe thead th {\n",
       "        text-align: right;\n",
       "    }\n",
       "</style>\n",
       "<table border=\"1\" class=\"dataframe\">\n",
       "  <thead>\n",
       "    <tr style=\"text-align: right;\">\n",
       "      <th></th>\n",
       "      <th>U-val</th>\n",
       "      <th>tail</th>\n",
       "      <th>p-val</th>\n",
       "      <th>RBC</th>\n",
       "      <th>CLES</th>\n",
       "    </tr>\n",
       "  </thead>\n",
       "  <tbody>\n",
       "    <tr>\n",
       "      <td>MWU</td>\n",
       "      <td>1218.0</td>\n",
       "      <td>two-sided</td>\n",
       "      <td>0.707096</td>\n",
       "      <td>-0.045</td>\n",
       "      <td>0.491</td>\n",
       "    </tr>\n",
       "  </tbody>\n",
       "</table>\n",
       "</div>"
      ],
      "text/plain": [
       "      U-val       tail     p-val    RBC   CLES\n",
       "MWU  1218.0  two-sided  0.707096 -0.045  0.491"
      ]
     },
     "metadata": {},
     "output_type": "display_data"
    },
    {
     "name": "stdout",
     "output_type": "stream",
     "text": [
      "----> the median is the same\n",
      "\n",
      "Study 2\n"
     ]
    },
    {
     "data": {
      "text/html": [
       "<div>\n",
       "<style scoped>\n",
       "    .dataframe tbody tr th:only-of-type {\n",
       "        vertical-align: middle;\n",
       "    }\n",
       "\n",
       "    .dataframe tbody tr th {\n",
       "        vertical-align: top;\n",
       "    }\n",
       "\n",
       "    .dataframe thead th {\n",
       "        text-align: right;\n",
       "    }\n",
       "</style>\n",
       "<table border=\"1\" class=\"dataframe\">\n",
       "  <thead>\n",
       "    <tr style=\"text-align: right;\">\n",
       "      <th></th>\n",
       "      <th>U-val</th>\n",
       "      <th>tail</th>\n",
       "      <th>p-val</th>\n",
       "      <th>RBC</th>\n",
       "      <th>CLES</th>\n",
       "    </tr>\n",
       "  </thead>\n",
       "  <tbody>\n",
       "    <tr>\n",
       "      <td>MWU</td>\n",
       "      <td>1883.0</td>\n",
       "      <td>two-sided</td>\n",
       "      <td>0.901784</td>\n",
       "      <td>-0.013</td>\n",
       "      <td>0.483</td>\n",
       "    </tr>\n",
       "  </tbody>\n",
       "</table>\n",
       "</div>"
      ],
      "text/plain": [
       "      U-val       tail     p-val    RBC   CLES\n",
       "MWU  1883.0  two-sided  0.901784 -0.013  0.483"
      ]
     },
     "metadata": {},
     "output_type": "display_data"
    },
    {
     "name": "stdout",
     "output_type": "stream",
     "text": [
      "----> the median is the same\n",
      "\n",
      "\n",
      "\n",
      "\n"
     ]
    },
    {
     "data": {
      "image/png": "[encoded data removed]",
      "text/plain": [
       "<Figure size 1080x1080 with 9 Axes>"
      ]
     },
     "metadata": {
      "needs_background": "light"
     },
     "output_type": "display_data"
    }
   ],
   "source": [
    "# Comparison between designers and non-designers in studies #1 and #2 (second part only)\n",
    "# using MWU\n",
    "\n",
    "metrics = [\"AUCnorm\", \"Correctnorm\", \"JoM\"]\n",
    "\n",
    "# set up plots\n",
    "fig, axes = plt.subplots(3, 3, figsize=(15, 15))\n",
    "plt.subplots_adjust(wspace=0.2, hspace=0.5)\n",
    "\n",
    "for i, ttype in enumerate([\"both\", \"lexical\", \"recognition\"]):\n",
    "    print(80 * \"-\")\n",
    "    for j, metric in enumerate(metrics):\n",
    "        metric_ = metric.replace(\"norm\", \"\")\n",
    "        if ttype == \"both\":\n",
    "            print(\"Comparison of %s between designers and non-designers, for both tasks, first part only\" % metric_)\n",
    "            title = \"Comparison of %s for both tasks\" % metric_\n",
    "            st = st_[st_[\"TestID\"] == 2]\n",
    "        else:\n",
    "            print(\"Comparison of %s between designers and non-designers, %s task only, first part only\" % (metric_, ttype))\n",
    "            title = \"Comparison of %s, %s task only\" % (metric_, ttype)\n",
    "            st = st_[(st_[\"TestID\"] == 2) & (st_[\"Type\"] == ttype)]\n",
    "        means = pd.DataFrame(columns=[\"Designers\", \"Non-designers\"], index=[\"Study 1\", \"Study 2\"])\n",
    "        errors = pd.DataFrame(columns=[\"Designers\", \"Non-designers\"], index=[\"Study 1\", \"Study 2\"])\n",
    "        for sid in [1, 2]:\n",
    "            print(\"Study\", sid)\n",
    "            x = st[(st[\"isDesigner\"] == True) & (st[\"StudyID\"] == sid)]\n",
    "            y = st[(st[\"isDesigner\"] == False) & (st[\"StudyID\"] == sid)]\n",
    "            res = pg.mwu(x[metric], y[metric], tail=\"two-sided\")\n",
    "            display(res)\n",
    "            if res.loc[\"MWU\", \"p-val\"] > alpha:\n",
    "                print(\"----> the median is the same\")\n",
    "                print()\n",
    "            else:\n",
    "                print(\"----> the median is different\")\n",
    "                print()\n",
    "            # plot it\n",
    "            study_ = \"Study %s\" % sid\n",
    "            means[\"Designers\"][study_] = x[metric_].mean()\n",
    "            means[\"Non-designers\"][study_] = y[metric_].mean()\n",
    "            errors[\"Designers\"][study_] = x[metric_].sem()\n",
    "            errors[\"Non-designers\"][study_] = y[metric_].sem()\n",
    "        means.plot.bar(yerr=errors,\n",
    "                       capsize=4,\n",
    "                       ax=axes[i][j],\n",
    "                       grid=True,\n",
    "                       ylim=get_scale(metric_),\n",
    "                       rot=0,\n",
    "                       title=title)\n",
    "    print()\n",
    "    print()\n",
    "    print()"
   ]
  },
  {
   "cell_type": "markdown",
   "metadata": {},
   "source": [
    "# Comparison of accuracy between studies"
   ]
  },
  {
   "cell_type": "code",
   "execution_count": 38,
   "metadata": {
    "scrolled": false
   },
   "outputs": [
    {
     "name": "stdout",
     "output_type": "stream",
     "text": [
      "\n",
      "\n",
      "# Comparison of AUC in lexical task, part: both\n"
     ]
    },
    {
     "data": {
      "text/html": [
       "<div>\n",
       "<style scoped>\n",
       "    .dataframe tbody tr th:only-of-type {\n",
       "        vertical-align: middle;\n",
       "    }\n",
       "\n",
       "    .dataframe tbody tr th {\n",
       "        vertical-align: top;\n",
       "    }\n",
       "\n",
       "    .dataframe thead th {\n",
       "        text-align: right;\n",
       "    }\n",
       "</style>\n",
       "<table border=\"1\" class=\"dataframe\">\n",
       "  <thead>\n",
       "    <tr style=\"text-align: right;\">\n",
       "      <th></th>\n",
       "      <th>T</th>\n",
       "      <th>dof</th>\n",
       "      <th>tail</th>\n",
       "      <th>p-val</th>\n",
       "      <th>CI95%</th>\n",
       "      <th>cohen-d</th>\n",
       "      <th>BF10</th>\n",
       "      <th>power</th>\n",
       "    </tr>\n",
       "  </thead>\n",
       "  <tbody>\n",
       "    <tr>\n",
       "      <td>T-test</td>\n",
       "      <td>2.812</td>\n",
       "      <td>433.44</td>\n",
       "      <td>two-sided</td>\n",
       "      <td>0.005149</td>\n",
       "      <td>[0.03, 0.15]</td>\n",
       "      <td>0.261</td>\n",
       "      <td>4.766</td>\n",
       "      <td>0.774</td>\n",
       "    </tr>\n",
       "  </tbody>\n",
       "</table>\n",
       "</div>"
      ],
      "text/plain": [
       "            T     dof       tail     p-val         CI95%  cohen-d   BF10  \\\n",
       "T-test  2.812  433.44  two-sided  0.005149  [0.03, 0.15]    0.261  4.766   \n",
       "\n",
       "        power  \n",
       "T-test  0.774  "
      ]
     },
     "metadata": {},
     "output_type": "display_data"
    },
    {
     "name": "stdout",
     "output_type": "stream",
     "text": [
      "----> the means are different\n",
      "\n",
      "Means: Study 1    0.974923\n",
      "Study 2    0.953381\n",
      "dtype: float64\n",
      "\n",
      "\n",
      "\n",
      "\n",
      "\n",
      "# Comparison of AUC in lexical task, part: 1\n"
     ]
    },
    {
     "data": {
      "text/html": [
       "<div>\n",
       "<style scoped>\n",
       "    .dataframe tbody tr th:only-of-type {\n",
       "        vertical-align: middle;\n",
       "    }\n",
       "\n",
       "    .dataframe tbody tr th {\n",
       "        vertical-align: top;\n",
       "    }\n",
       "\n",
       "    .dataframe thead th {\n",
       "        text-align: right;\n",
       "    }\n",
       "</style>\n",
       "<table border=\"1\" class=\"dataframe\">\n",
       "  <thead>\n",
       "    <tr style=\"text-align: right;\">\n",
       "      <th></th>\n",
       "      <th>T</th>\n",
       "      <th>dof</th>\n",
       "      <th>tail</th>\n",
       "      <th>p-val</th>\n",
       "      <th>CI95%</th>\n",
       "      <th>cohen-d</th>\n",
       "      <th>BF10</th>\n",
       "      <th>power</th>\n",
       "    </tr>\n",
       "  </thead>\n",
       "  <tbody>\n",
       "    <tr>\n",
       "      <td>T-test</td>\n",
       "      <td>1.819</td>\n",
       "      <td>216.91</td>\n",
       "      <td>two-sided</td>\n",
       "      <td>0.070289</td>\n",
       "      <td>[-0.01, 0.17]</td>\n",
       "      <td>0.241</td>\n",
       "      <td>0.698</td>\n",
       "      <td>0.421</td>\n",
       "    </tr>\n",
       "  </tbody>\n",
       "</table>\n",
       "</div>"
      ],
      "text/plain": [
       "            T     dof       tail     p-val          CI95%  cohen-d   BF10  \\\n",
       "T-test  1.819  216.91  two-sided  0.070289  [-0.01, 0.17]    0.241  0.698   \n",
       "\n",
       "        power  \n",
       "T-test  0.421  "
      ]
     },
     "metadata": {},
     "output_type": "display_data"
    },
    {
     "name": "stdout",
     "output_type": "stream",
     "text": [
      "----> the means are the same\n",
      "\n",
      "Means: Study 1    0.971907\n",
      "Study 2    0.952295\n",
      "dtype: float64\n",
      "\n",
      "\n",
      "\n",
      "\n",
      "\n",
      "# Comparison of AUC in lexical task, part: 2\n"
     ]
    },
    {
     "data": {
      "text/html": [
       "<div>\n",
       "<style scoped>\n",
       "    .dataframe tbody tr th:only-of-type {\n",
       "        vertical-align: middle;\n",
       "    }\n",
       "\n",
       "    .dataframe tbody tr th {\n",
       "        vertical-align: top;\n",
       "    }\n",
       "\n",
       "    .dataframe thead th {\n",
       "        text-align: right;\n",
       "    }\n",
       "</style>\n",
       "<table border=\"1\" class=\"dataframe\">\n",
       "  <thead>\n",
       "    <tr style=\"text-align: right;\">\n",
       "      <th></th>\n",
       "      <th>T</th>\n",
       "      <th>dof</th>\n",
       "      <th>tail</th>\n",
       "      <th>p-val</th>\n",
       "      <th>CI95%</th>\n",
       "      <th>cohen-d</th>\n",
       "      <th>BF10</th>\n",
       "      <th>power</th>\n",
       "    </tr>\n",
       "  </thead>\n",
       "  <tbody>\n",
       "    <tr>\n",
       "      <td>T-test</td>\n",
       "      <td>2.159</td>\n",
       "      <td>212.95</td>\n",
       "      <td>two-sided</td>\n",
       "      <td>0.031977</td>\n",
       "      <td>[0.01, 0.18]</td>\n",
       "      <td>0.282</td>\n",
       "      <td>1.308</td>\n",
       "      <td>0.541</td>\n",
       "    </tr>\n",
       "  </tbody>\n",
       "</table>\n",
       "</div>"
      ],
      "text/plain": [
       "            T     dof       tail     p-val         CI95%  cohen-d   BF10  \\\n",
       "T-test  2.159  212.95  two-sided  0.031977  [0.01, 0.18]    0.282  1.308   \n",
       "\n",
       "        power  \n",
       "T-test  0.541  "
      ]
     },
     "metadata": {},
     "output_type": "display_data"
    },
    {
     "name": "stdout",
     "output_type": "stream",
     "text": [
      "----> the means are different\n",
      "\n",
      "Means: Study 1    0.977938\n",
      "Study 2    0.954467\n",
      "dtype: float64\n",
      "\n",
      "\n",
      "\n",
      "\n",
      "\n",
      "# Comparison of AUC in recognition task, part: both\n"
     ]
    },
    {
     "data": {
      "text/html": [
       "<div>\n",
       "<style scoped>\n",
       "    .dataframe tbody tr th:only-of-type {\n",
       "        vertical-align: middle;\n",
       "    }\n",
       "\n",
       "    .dataframe tbody tr th {\n",
       "        vertical-align: top;\n",
       "    }\n",
       "\n",
       "    .dataframe thead th {\n",
       "        text-align: right;\n",
       "    }\n",
       "</style>\n",
       "<table border=\"1\" class=\"dataframe\">\n",
       "  <thead>\n",
       "    <tr style=\"text-align: right;\">\n",
       "      <th></th>\n",
       "      <th>T</th>\n",
       "      <th>dof</th>\n",
       "      <th>tail</th>\n",
       "      <th>p-val</th>\n",
       "      <th>CI95%</th>\n",
       "      <th>cohen-d</th>\n",
       "      <th>BF10</th>\n",
       "      <th>power</th>\n",
       "    </tr>\n",
       "  </thead>\n",
       "  <tbody>\n",
       "    <tr>\n",
       "      <td>T-test</td>\n",
       "      <td>3.355</td>\n",
       "      <td>425.17</td>\n",
       "      <td>two-sided</td>\n",
       "      <td>0.000866</td>\n",
       "      <td>[0.05, 0.2]</td>\n",
       "      <td>0.32</td>\n",
       "      <td>23.405</td>\n",
       "      <td>0.913</td>\n",
       "    </tr>\n",
       "  </tbody>\n",
       "</table>\n",
       "</div>"
      ],
      "text/plain": [
       "            T     dof       tail     p-val        CI95%  cohen-d    BF10  \\\n",
       "T-test  3.355  425.17  two-sided  0.000866  [0.05, 0.2]     0.32  23.405   \n",
       "\n",
       "        power  \n",
       "T-test  0.913  "
      ]
     },
     "metadata": {},
     "output_type": "display_data"
    },
    {
     "name": "stdout",
     "output_type": "stream",
     "text": [
      "----> the means are different\n",
      "\n",
      "Means: Study 1    0.900532\n",
      "Study 2    0.862705\n",
      "dtype: float64\n",
      "\n",
      "\n",
      "\n",
      "\n",
      "\n",
      "# Comparison of AUC in recognition task, part: 1\n"
     ]
    },
    {
     "data": {
      "text/html": [
       "<div>\n",
       "<style scoped>\n",
       "    .dataframe tbody tr th:only-of-type {\n",
       "        vertical-align: middle;\n",
       "    }\n",
       "\n",
       "    .dataframe tbody tr th {\n",
       "        vertical-align: top;\n",
       "    }\n",
       "\n",
       "    .dataframe thead th {\n",
       "        text-align: right;\n",
       "    }\n",
       "</style>\n",
       "<table border=\"1\" class=\"dataframe\">\n",
       "  <thead>\n",
       "    <tr style=\"text-align: right;\">\n",
       "      <th></th>\n",
       "      <th>T</th>\n",
       "      <th>dof</th>\n",
       "      <th>tail</th>\n",
       "      <th>p-val</th>\n",
       "      <th>CI95%</th>\n",
       "      <th>cohen-d</th>\n",
       "      <th>BF10</th>\n",
       "      <th>power</th>\n",
       "    </tr>\n",
       "  </thead>\n",
       "  <tbody>\n",
       "    <tr>\n",
       "      <td>T-test</td>\n",
       "      <td>4.747</td>\n",
       "      <td>204.48</td>\n",
       "      <td>two-sided</td>\n",
       "      <td>0.000004</td>\n",
       "      <td>[0.15, 0.35]</td>\n",
       "      <td>0.647</td>\n",
       "      <td>4041.25</td>\n",
       "      <td>0.997</td>\n",
       "    </tr>\n",
       "  </tbody>\n",
       "</table>\n",
       "</div>"
      ],
      "text/plain": [
       "            T     dof       tail     p-val         CI95%  cohen-d     BF10  \\\n",
       "T-test  4.747  204.48  two-sided  0.000004  [0.15, 0.35]    0.647  4041.25   \n",
       "\n",
       "        power  \n",
       "T-test  0.997  "
      ]
     },
     "metadata": {},
     "output_type": "display_data"
    },
    {
     "name": "stdout",
     "output_type": "stream",
     "text": [
      "----> the means are different\n",
      "\n",
      "Means: Study 1    0.908344\n",
      "Study 2    0.840164\n",
      "dtype: float64\n",
      "\n",
      "\n",
      "\n",
      "\n",
      "\n",
      "# Comparison of AUC in recognition task, part: 2\n"
     ]
    },
    {
     "data": {
      "text/html": [
       "<div>\n",
       "<style scoped>\n",
       "    .dataframe tbody tr th:only-of-type {\n",
       "        vertical-align: middle;\n",
       "    }\n",
       "\n",
       "    .dataframe tbody tr th {\n",
       "        vertical-align: top;\n",
       "    }\n",
       "\n",
       "    .dataframe thead th {\n",
       "        text-align: right;\n",
       "    }\n",
       "</style>\n",
       "<table border=\"1\" class=\"dataframe\">\n",
       "  <thead>\n",
       "    <tr style=\"text-align: right;\">\n",
       "      <th></th>\n",
       "      <th>T</th>\n",
       "      <th>dof</th>\n",
       "      <th>tail</th>\n",
       "      <th>p-val</th>\n",
       "      <th>CI95%</th>\n",
       "      <th>cohen-d</th>\n",
       "      <th>BF10</th>\n",
       "      <th>power</th>\n",
       "    </tr>\n",
       "  </thead>\n",
       "  <tbody>\n",
       "    <tr>\n",
       "      <td>T-test</td>\n",
       "      <td>0.136</td>\n",
       "      <td>214.01</td>\n",
       "      <td>two-sided</td>\n",
       "      <td>0.892126</td>\n",
       "      <td>[-0.1, 0.11]</td>\n",
       "      <td>0.018</td>\n",
       "      <td>0.15</td>\n",
       "      <td>0.052</td>\n",
       "    </tr>\n",
       "  </tbody>\n",
       "</table>\n",
       "</div>"
      ],
      "text/plain": [
       "            T     dof       tail     p-val         CI95%  cohen-d  BF10  power\n",
       "T-test  0.136  214.01  two-sided  0.892126  [-0.1, 0.11]    0.018  0.15  0.052"
      ]
     },
     "metadata": {},
     "output_type": "display_data"
    },
    {
     "name": "stdout",
     "output_type": "stream",
     "text": [
      "----> the means are the same\n",
      "\n",
      "Means: Study 1    0.892719\n",
      "Study 2    0.885246\n",
      "dtype: float64\n",
      "\n",
      "\n",
      "\n"
     ]
    },
    {
     "data": {
      "image/png": "[encoded data removed]",
      "text/plain": [
       "<Figure size 720x1080 with 6 Axes>"
      ]
     },
     "metadata": {
      "needs_background": "light"
     },
     "output_type": "display_data"
    }
   ],
   "source": [
    "# Comparison between studies #1 and #2 for each part and task separately\n",
    "# using t-test\n",
    "\n",
    "# set up plots\n",
    "fig, axes = plt.subplots(3, 2, figsize=(10, 15))\n",
    "plt.subplots_adjust(wspace=0.2, hspace=0.5)\n",
    "\n",
    "metric = \"AUCnorm\"\n",
    "metric_ = \"AUC\"\n",
    "for j, ttype in enumerate([\"lexical\", \"recognition\"]):\n",
    "    for i, tid in enumerate([\"both\", 1, 2]):\n",
    "        title = \"Comparison of %s in %s task, part: %s\" % (metric_, ttype, tid)\n",
    "        print(\"\\n\\n#\", title)\n",
    "        # data for the lexical task in the first part\n",
    "        if tid == \"both\":\n",
    "            st = st_[st_[\"Type\"] == ttype]\n",
    "        else:\n",
    "            st = st_[(st_[\"TestID\"] == tid) & (st_[\"Type\"] == ttype)]\n",
    "        st1 = st[st[\"StudyID\"] == 1]\n",
    "        st2 = st[st[\"StudyID\"] == 2]\n",
    "        res = pg.ttest(st1[metric], st2[metric], tail=\"two-sided\")\n",
    "        display(res)\n",
    "        if res.loc[\"T-test\", \"p-val\"] > alpha:\n",
    "            print(\"----> the means are the same\")\n",
    "            print()\n",
    "        else:\n",
    "            print(\"----> the means are different\")\n",
    "            print()\n",
    "        # plot it\n",
    "        means = {}\n",
    "        errors = {}\n",
    "        study_ = \"Study %d\"\n",
    "        means[study_ % 1] = st1[metric_].mean()\n",
    "        means[study_ % 2] = st2[metric_].mean()\n",
    "        errors[study_ % 1] = st1[metric_].sem()\n",
    "        errors[study_ % 2] = st2[metric_].sem()\n",
    "        means = pd.Series(means)\n",
    "        errors = pd.Series(errors)\n",
    "        means.plot.bar(yerr=errors,\n",
    "                       capsize=4,\n",
    "                       ax=axes[i][j],\n",
    "                       grid=True,\n",
    "                       ylim=get_scale(metric_),\n",
    "                       rot=0,\n",
    "                       title=title)\n",
    "        print(\"Means:\", means)\n",
    "        print()\n",
    "        print()"
   ]
  },
  {
   "cell_type": "code",
   "execution_count": null,
   "metadata": {},
   "outputs": [],
   "source": []
  }
 ],
 "metadata": {
  "kernelspec": {
   "display_name": "Python 3",
   "language": "python",
   "name": "python3"
  },
  "language_info": {
   "codemirror_mode": {
    "name": "ipython",
    "version": 3
   },
   "file_extension": ".py",
   "mimetype": "text/x-python",
   "name": "python",
   "nbconvert_exporter": "python",
   "pygments_lexer": "ipython3",
   "version": "3.6.9"
  }
 },
 "nbformat": 4,
 "nbformat_minor": 2
}
